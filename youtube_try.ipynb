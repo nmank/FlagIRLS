{
 "cells": [
  {
   "cell_type": "code",
   "execution_count": 1,
   "metadata": {},
   "outputs": [],
   "source": [
    "from numpy import *\n",
    "import cv2\n",
    "import numpy as np\n",
    "from os import listdir, mkdir\n",
    "from os.path import isdir\n",
    "from matplotlib import pyplot as plt\n",
    "import center_algorithms as ca"
   ]
  },
  {
   "cell_type": "markdown",
   "metadata": {},
   "source": [
    "## Put the Points on Gr(10,76800) if rescale = True"
   ]
  },
  {
   "cell_type": "code",
   "execution_count": 2,
   "metadata": {},
   "outputs": [],
   "source": [
    "\n",
    "\n",
    "def load_video(f_name, gr_dims = 0, rescale = False):\n",
    "\n",
    "    scale_percent = 60 # compress videos to percent of original size\n",
    "    \n",
    "    cap = cv2.VideoCapture(f_name)\n",
    "    ret = True\n",
    "    frames = []\n",
    "    while ret:\n",
    "        ret, img = cap.read() # read one frame from the 'capture' object; img is (H, W, C)\n",
    "        if ret:\n",
    "            \n",
    "            #convert to greyscale\n",
    "            img_gray = cv2.cvtColor(img, cv2.COLOR_BGR2GRAY)\n",
    "            \n",
    "            if rescale:\n",
    "                width = int(img_gray.shape[1] * scale_percent / 100)\n",
    "                height = int(img_gray.shape[0] * scale_percent / 100)\n",
    "                dim = (width, height)\n",
    "                img_gray_resized = cv2.resize(img_gray, dim, interpolation = cv2.INTER_AREA)\n",
    "            else:\n",
    "                width, height = img_gray.shape\n",
    "                img_gray_resized = img_gray.copy()\n",
    "            if gr_dims == 0:\n",
    "                gr_dims = width*height\n",
    "\n",
    "            frames.append(img_gray_resized)\n",
    "  \n",
    "    video = np.stack(frames, axis=0) \n",
    "\n",
    "    size = video.shape[0]\n",
    "\n",
    "    if video.size/size != gr_dims:\n",
    "        return [], gr_dims\n",
    "\n",
    "    video = video.reshape(size,gr_dims)\n",
    "\n",
    "    gr_point = np.linalg.qr(video.T)[0][:,:10]\n",
    "\n",
    "    if size > 10:\n",
    "        return gr_point, gr_dims\n",
    "    else:\n",
    "        return [], gr_dims"
   ]
  },
  {
   "cell_type": "code",
   "execution_count": 3,
   "metadata": {},
   "outputs": [
    {
     "name": "stdout",
     "output_type": "stream",
     "text": [
      "class volleyball_spiking\n",
      "22\n",
      "class golf_swing\n",
      "46\n",
      "class swing\n",
      "69\n",
      "class tennis_swing\n",
      "93\n",
      "class soccer_juggling\n",
      "117\n",
      "class horse_riding\n",
      "141\n",
      "class walking\n",
      "165\n",
      "class basketball\n",
      "188\n",
      "class trampoline_jumping\n",
      "212\n",
      "class biking\n",
      "234\n",
      "class diving\n",
      "259\n"
     ]
    }
   ],
   "source": [
    "data = []\n",
    "labels = []\n",
    "start = True\n",
    "for label in listdir('/data4/mankovic/action_youtube_naudio/'):\n",
    "    if isdir('/data4/mankovic/action_youtube_naudio/'+label):\n",
    "        print('class '+label)\n",
    "        for sample in listdir('/data4/mankovic/action_youtube_naudio/'+label):\n",
    "            if isdir('/data4/mankovic/action_youtube_naudio/'+label+'/'+sample):\n",
    "                if 'Annotation' not in sample:\n",
    "                    if start:\n",
    "                        gr_dims = 0\n",
    "                        start = False\n",
    "                    point, gr_dims = load_video('/data4/mankovic/action_youtube_naudio/'+label+'/'+sample+'/'+sample+'_01.avi', gr_dims)\n",
    "                    if len(point)> 1:\n",
    "                        data.append(point)\n",
    "                        labels.append(label)\n",
    "        print(len(data))\n",
    "        \n"
   ]
  },
  {
   "cell_type": "code",
   "execution_count": 4,
   "metadata": {},
   "outputs": [],
   "source": [
    "for c in np.unique(labels):\n",
    "    mkdir('/data4/mankovic/action_youtube_gr/'+c)\n",
    "i=1\n",
    "for x, l in zip(data, labels):\n",
    "    np.save('/data4/mankovic/action_youtube_gr/'+l+'/'+l+'_'+str(i)+'.npy', x)\n",
    "    i+=1"
   ]
  },
  {
   "cell_type": "markdown",
   "metadata": {},
   "source": [
    "## Load points from npy files"
   ]
  },
  {
   "cell_type": "code",
   "execution_count": 9,
   "metadata": {},
   "outputs": [],
   "source": [
    "base_path = '/data4/mankovic/action_youtube_gr/'\n",
    "data = []\n",
    "labels = []\n",
    "for label in listdir(base_path):\n",
    "    current_dir = base_path+label+'/'\n",
    "    for f in listdir(current_dir):\n",
    "        data.append(np.load(current_dir+f))\n",
    "        labels.append(label)\n"
   ]
  },
  {
   "cell_type": "code",
   "execution_count": 10,
   "metadata": {},
   "outputs": [
    {
     "name": "stdout",
     "output_type": "stream",
     "text": [
      "(27648, 10)\n",
      "(27648, 10)\n",
      "(27648, 10)\n",
      "(27648, 10)\n",
      "(27648, 10)\n",
      "(27648, 10)\n",
      "(27648, 10)\n",
      "(27648, 10)\n",
      "(27648, 10)\n",
      "(27648, 10)\n",
      "(27648, 10)\n",
      "(27648, 10)\n",
      "(27648, 10)\n",
      "(27648, 10)\n",
      "(27648, 10)\n",
      "(27648, 10)\n",
      "(27648, 10)\n",
      "(27648, 10)\n",
      "(27648, 10)\n",
      "(27648, 10)\n"
     ]
    }
   ],
   "source": [
    "for d in data[:20]:\n",
    "    print(d.shape)"
   ]
  },
  {
   "cell_type": "code",
   "execution_count": 12,
   "metadata": {},
   "outputs": [
    {
     "ename": "KeyboardInterrupt",
     "evalue": "",
     "output_type": "error",
     "traceback": [
      "\u001b[0;31m---------------------------------------------------------------------------\u001b[0m",
      "\u001b[0;31mKeyboardInterrupt\u001b[0m                         Traceback (most recent call last)",
      "\u001b[0;32m/tmp/ipykernel_12619/3528349605.py\u001b[0m in \u001b[0;36m<module>\u001b[0;34m\u001b[0m\n\u001b[1;32m      1\u001b[0m \u001b[0;31m#speed test\u001b[0m\u001b[0;34m\u001b[0m\u001b[0;34m\u001b[0m\u001b[0;34m\u001b[0m\u001b[0m\n\u001b[1;32m      2\u001b[0m \u001b[0;34m\u001b[0m\u001b[0m\n\u001b[0;32m----> 3\u001b[0;31m \u001b[0mx\u001b[0m\u001b[0;34m,\u001b[0m\u001b[0my\u001b[0m \u001b[0;34m=\u001b[0m \u001b[0mca\u001b[0m\u001b[0;34m.\u001b[0m\u001b[0ml2_median\u001b[0m\u001b[0;34m(\u001b[0m\u001b[0mdata\u001b[0m\u001b[0;34m,\u001b[0m \u001b[0;36m.1\u001b[0m\u001b[0;34m,\u001b[0m \u001b[0;36m10\u001b[0m\u001b[0;34m,\u001b[0m \u001b[0;36m1000\u001b[0m\u001b[0;34m,\u001b[0m \u001b[0;36m0\u001b[0m\u001b[0;34m)\u001b[0m\u001b[0;34m\u001b[0m\u001b[0;34m\u001b[0m\u001b[0m\n\u001b[0m",
      "\u001b[0;32m~/FlagIRLS/center_algorithms.py\u001b[0m in \u001b[0;36ml2_median\u001b[0;34m(data, alpha, r, max_itrs, seed)\u001b[0m\n\u001b[1;32m     95\u001b[0m             \u001b[0;32mif\u001b[0m \u001b[0mdists\u001b[0m\u001b[0;34m[\u001b[0m\u001b[0;34m-\u001b[0m\u001b[0;36m1\u001b[0m\u001b[0;34m]\u001b[0m \u001b[0;34m>\u001b[0m \u001b[0;36m.0001\u001b[0m\u001b[0;34m:\u001b[0m\u001b[0;34m\u001b[0m\u001b[0;34m\u001b[0m\u001b[0m\n\u001b[1;32m     96\u001b[0m                 \u001b[0md_fracs\u001b[0m \u001b[0;34m+=\u001b[0m \u001b[0;36m1\u001b[0m \u001b[0;34m/\u001b[0m \u001b[0mdists\u001b[0m\u001b[0;34m[\u001b[0m\u001b[0;34m-\u001b[0m\u001b[0;36m1\u001b[0m\u001b[0;34m]\u001b[0m\u001b[0;34m\u001b[0m\u001b[0;34m\u001b[0m\u001b[0m\n\u001b[0;32m---> 97\u001b[0;31m                 \u001b[0mld_fracs\u001b[0m \u001b[0;34m+=\u001b[0m \u001b[0mgr_log\u001b[0m\u001b[0;34m(\u001b[0m\u001b[0mY\u001b[0m\u001b[0;34m,\u001b[0m \u001b[0mx\u001b[0m\u001b[0;34m)\u001b[0m \u001b[0;34m/\u001b[0m \u001b[0mdists\u001b[0m\u001b[0;34m[\u001b[0m\u001b[0;34m-\u001b[0m\u001b[0;36m1\u001b[0m\u001b[0;34m]\u001b[0m\u001b[0;34m\u001b[0m\u001b[0;34m\u001b[0m\u001b[0m\n\u001b[0m\u001b[1;32m     98\u001b[0m             \u001b[0;32melse\u001b[0m\u001b[0;34m:\u001b[0m\u001b[0;34m\u001b[0m\u001b[0;34m\u001b[0m\u001b[0m\n\u001b[1;32m     99\u001b[0m                 \u001b[0mprint\u001b[0m\u001b[0;34m(\u001b[0m\u001b[0;34m'converged to datapoint'\u001b[0m\u001b[0;34m)\u001b[0m\u001b[0;34m\u001b[0m\u001b[0;34m\u001b[0m\u001b[0m\n",
      "\u001b[0;32m~/FlagIRLS/center_algorithms.py\u001b[0m in \u001b[0;36mgr_log\u001b[0;34m(X, Y)\u001b[0m\n\u001b[1;32m     35\u001b[0m     \u001b[0;31m#The following line is a slightly faster way to compute temp.\u001b[0m\u001b[0;34m\u001b[0m\u001b[0;34m\u001b[0m\u001b[0;34m\u001b[0m\u001b[0m\n\u001b[1;32m     36\u001b[0m \u001b[0;34m\u001b[0m\u001b[0m\n\u001b[0;32m---> 37\u001b[0;31m     \u001b[0mtemp\u001b[0m \u001b[0;34m=\u001b[0m \u001b[0mnp\u001b[0m\u001b[0;34m.\u001b[0m\u001b[0meye\u001b[0m\u001b[0;34m(\u001b[0m\u001b[0mm\u001b[0m\u001b[0;34m)\u001b[0m \u001b[0;34m@\u001b[0m \u001b[0mY\u001b[0m \u001b[0;34m@\u001b[0m \u001b[0mnp\u001b[0m\u001b[0;34m.\u001b[0m\u001b[0mlinalg\u001b[0m\u001b[0;34m.\u001b[0m\u001b[0minv\u001b[0m\u001b[0;34m(\u001b[0m\u001b[0mX\u001b[0m\u001b[0;34m.\u001b[0m\u001b[0mT\u001b[0m \u001b[0;34m@\u001b[0m \u001b[0mY\u001b[0m\u001b[0;34m)\u001b[0m \u001b[0;34m-\u001b[0m \u001b[0mX\u001b[0m \u001b[0;34m@\u001b[0m \u001b[0;34m(\u001b[0m\u001b[0mX\u001b[0m\u001b[0;34m.\u001b[0m\u001b[0mT\u001b[0m \u001b[0;34m@\u001b[0m \u001b[0mY\u001b[0m\u001b[0;34m)\u001b[0m \u001b[0;34m@\u001b[0m \u001b[0mnp\u001b[0m\u001b[0;34m.\u001b[0m\u001b[0mlinalg\u001b[0m\u001b[0;34m.\u001b[0m\u001b[0minv\u001b[0m\u001b[0;34m(\u001b[0m\u001b[0mX\u001b[0m\u001b[0;34m.\u001b[0m\u001b[0mT\u001b[0m \u001b[0;34m@\u001b[0m \u001b[0mY\u001b[0m\u001b[0;34m)\u001b[0m\u001b[0;34m\u001b[0m\u001b[0;34m\u001b[0m\u001b[0m\n\u001b[0m\u001b[1;32m     38\u001b[0m     \u001b[0mU\u001b[0m\u001b[0;34m,\u001b[0m\u001b[0mS\u001b[0m\u001b[0;34m,\u001b[0m\u001b[0mV\u001b[0m \u001b[0;34m=\u001b[0m \u001b[0mnp\u001b[0m\u001b[0;34m.\u001b[0m\u001b[0mlinalg\u001b[0m\u001b[0;34m.\u001b[0m\u001b[0msvd\u001b[0m\u001b[0;34m(\u001b[0m\u001b[0mtemp\u001b[0m\u001b[0;34m,\u001b[0m \u001b[0mfull_matrices\u001b[0m \u001b[0;34m=\u001b[0m \u001b[0;32mFalse\u001b[0m\u001b[0;34m)\u001b[0m\u001b[0;34m\u001b[0m\u001b[0;34m\u001b[0m\u001b[0m\n\u001b[1;32m     39\u001b[0m     \u001b[0mTheta\u001b[0m \u001b[0;34m=\u001b[0m \u001b[0mnp\u001b[0m\u001b[0;34m.\u001b[0m\u001b[0marctan\u001b[0m\u001b[0;34m(\u001b[0m\u001b[0mS\u001b[0m\u001b[0;34m)\u001b[0m\u001b[0;34m\u001b[0m\u001b[0;34m\u001b[0m\u001b[0m\n",
      "\u001b[0;31mKeyboardInterrupt\u001b[0m: "
     ]
    }
   ],
   "source": [
    "#speed test\n",
    "#run this eventually\n",
    "\n",
    "x,y = ca.l2_median(data, .1, 10, 1000, 0)"
   ]
  },
  {
   "cell_type": "code",
   "execution_count": 11,
   "metadata": {},
   "outputs": [
    {
     "data": {
      "text/plain": [
       "array([[-0.00510956, -0.00111815,  0.00679826, ..., -0.00147933,\n",
       "         0.00097234, -0.00219035],\n",
       "       [-0.00518705, -0.00318068,  0.0053043 , ..., -0.00236273,\n",
       "        -0.00332891,  0.00104101],\n",
       "       [-0.00538552, -0.00475074,  0.004671  , ..., -0.00500828,\n",
       "        -0.00522132,  0.00082869],\n",
       "       ...,\n",
       "       [-0.00557501,  0.00454644, -0.00408035, ..., -0.00135929,\n",
       "        -0.00104927,  0.00035119],\n",
       "       [-0.00552539,  0.00363821, -0.00347744, ..., -0.00049532,\n",
       "        -0.00049075,  0.00019964],\n",
       "       [-0.0054728 ,  0.00336627, -0.00261256, ...,  0.00067276,\n",
       "        -0.00029715,  0.00033415]])"
      ]
     },
     "execution_count": 11,
     "metadata": {},
     "output_type": "execute_result"
    }
   ],
   "source": [
    "#another speed test\n",
    "ca.flag_mean(data[:20], 10, fast = False)"
   ]
  },
  {
   "cell_type": "code",
   "execution_count": 16,
   "metadata": {},
   "outputs": [
    {
     "data": {
      "text/plain": [
       "(24576, 10)"
      ]
     },
     "execution_count": 16,
     "metadata": {},
     "output_type": "execute_result"
    }
   ],
   "source": [
    "import pandas\n",
    "pandas.read_csv('')"
   ]
  },
  {
   "cell_type": "code",
   "execution_count": 17,
   "metadata": {},
   "outputs": [
    {
     "data": {
      "text/plain": [
       "(27648, 10)"
      ]
     },
     "execution_count": 17,
     "metadata": {},
     "output_type": "execute_result"
    }
   ],
   "source": [
    "data[16].shape"
   ]
  },
  {
   "cell_type": "code",
   "execution_count": null,
   "metadata": {},
   "outputs": [],
   "source": []
  }
 ],
 "metadata": {
  "interpreter": {
   "hash": "9a16b7d45e15add018271b8879906ed388208b17729257166cad5f2212e101aa"
  },
  "kernelspec": {
   "display_name": "Python 3.8.8 64-bit ('base': conda)",
   "language": "python",
   "name": "python388jvsc74a57bd0bf07fe7600081ccdde2607d4f5cbc1e85188937e2965360690fe82ac0224b1eb"
  },
  "language_info": {
   "codemirror_mode": {
    "name": "ipython",
    "version": 3
   },
   "file_extension": ".py",
   "mimetype": "text/x-python",
   "name": "python",
   "nbconvert_exporter": "python",
   "pygments_lexer": "ipython3",
   "version": "3.8.8"
  },
  "orig_nbformat": 4
 },
 "nbformat": 4,
 "nbformat_minor": 2
}
