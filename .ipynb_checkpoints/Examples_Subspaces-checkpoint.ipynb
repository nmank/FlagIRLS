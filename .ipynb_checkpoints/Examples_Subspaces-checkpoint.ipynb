{
 "cells": [
  {
   "cell_type": "code",
   "execution_count": 7,
   "metadata": {},
   "outputs": [],
   "source": [
    "import numpy as np\n",
    "import center_algorithms as ca\n",
    "import matplotlib.pyplot as plt"
   ]
  },
  {
   "cell_type": "markdown",
   "metadata": {},
   "source": [
    "A script for examples for Sine Median and Maximum Cosine problems on Gr(k,n) where k>1"
   ]
  },
  {
   "cell_type": "markdown",
   "metadata": {},
   "source": [
    "## Synthetic Example"
   ]
  },
  {
   "cell_type": "code",
   "execution_count": 8,
   "metadata": {},
   "outputs": [],
   "source": [
    "k1=3 #Gr(k1,n)\n",
    "k2=5 #Gr(k2,n)\n",
    "r=3\n",
    "n=20\n",
    "n_its = 20 #number of iterations for FlagIRLS\n",
    "seed = 1 #random seed\n",
    "num_points = 200 #number of points in dataset\n",
    "n_trials = 100 #number of trials for sanity check"
   ]
  },
  {
   "cell_type": "code",
   "execution_count": 9,
   "metadata": {},
   "outputs": [],
   "source": [
    "#generate dataset of points in Gr(ki,n)\n",
    "#half the points are in Gr(k1,n) and the second half are in Gr(k2,n)\n",
    "\n",
    "np.random.seed(seed)\n",
    "\n",
    "gr_list = []\n",
    "for i in range(1 + num_points//2):\n",
    "    Y_raw = np.random.rand(n,n)-.5\n",
    "    Y = np.linalg.qr(Y_raw)[0][:,:k1]\n",
    "    gr_list.append(Y)\n",
    "for i in range(num_points//2):\n",
    "    Y_raw = np.random.rand(n,n)-.5\n",
    "    Y = np.linalg.qr(Y_raw)[0][:,:k2]\n",
    "    gr_list.append(Y)\n"
   ]
  },
  {
   "cell_type": "code",
   "execution_count": 10,
   "metadata": {},
   "outputs": [],
   "source": [
    "'''\n",
    "This function verifies that we found a local optimizer for\n",
    "the sine median or maximum cosine problem.\n",
    "It does this by checking 100 points around the optimizer.\n",
    "\n",
    "Inputs: \n",
    "    optimizer- a numpy array that represente the suggested optimizer\n",
    "    opf_fn- a string, 'sine' for sine median and 'cosine' for maximum cosine\n",
    "    data- a list of numpy arrays representing points on grassmannians\n",
    "Outputs:\n",
    "    local optimizer- True if all checked points result in objective function values\n",
    "                        that are greater than the Sine Median problem or smaller than\n",
    "                        the Maximum Cosine value\n",
    "'''\n",
    "def sanity_check(optimizer, opt_fn, data):\n",
    "    \n",
    "    n,r = optimizer.shape\n",
    "    \n",
    "    \n",
    "    #objective function value for suggested optimizer\n",
    "    sln_val = ca.calc_error_1_2(data, optimizer, opt_fn) \n",
    "    \n",
    "    #stays true if optimizer is a local min\n",
    "    local_optimizer = True\n",
    "\n",
    "    #checking random points\n",
    "    perturb_vals = []\n",
    "    for i in range(100):\n",
    "        \n",
    "        #random points between -.5 and .5 times .01\n",
    "        perturb = (np.random.rand(n,r)-5)*.01 \n",
    "        perturb_check = np.linalg.qr(perturb + optimizer)[0][:,:r]\n",
    "        \n",
    "        #check objective function value\n",
    "        perturb_vals.append(ca.calc_error_1_2(data, perturb_check, opt_fn))\n",
    "\n",
    "        if opt_fn == 'sine':\n",
    "            if perturb_vals[i] < sln_val:\n",
    "                local_optimizer = False\n",
    "#                 print(perturb_vals[i])\n",
    "#                 print(sln_val)\n",
    "#                 print('FlagIRLS did not converge to minimizer')\n",
    "        elif opt_fn == 'cosine':\n",
    "            if perturb_vals[i] > sln_val:\n",
    "                local_optimizer = False\n",
    "#                 print(perturb_vals[i])\n",
    "#                 print(sln_val)\n",
    "#                 print('FlagIRLS did not converge to maximizer')\n",
    "    return local_optimizer"
   ]
  },
  {
   "cell_type": "code",
   "execution_count": 11,
   "metadata": {},
   "outputs": [
    {
     "name": "stdout",
     "output_type": "stream",
     "text": [
      "Percent of trials that resulted in local optimizers:\n",
      "Sine: 100.0\n",
      "Cos: 100.0\n"
     ]
    }
   ],
   "source": [
    "#check robustness to initialization\n",
    "\n",
    "#do n_trials\n",
    "\n",
    "sin_corrects = 0\n",
    "cos_corrects = 0\n",
    "\n",
    "for seed in range(n_trials):\n",
    "    #use different initialization for each trial using seed\n",
    "    \n",
    "    #calculate sine median\n",
    "    sin_median, s_err = ca.irls_flag(gr_list, r, n_its, 'sine', opt_err = 'sine', fast = False, seed = seed)\n",
    "#     print('Sine Median finished')\n",
    "\n",
    "    #calculate maximum cosine\n",
    "    max_cosine, c_err = ca.irls_flag(gr_list, r, n_its, 'cosine', opt_err = 'cosine', fast = False, seed = seed)\n",
    "#     print('Max Cos finished')\n",
    "    \n",
    "    if sanity_check(sin_median, 'sine', gr_list):\n",
    "        sin_corrects += 1        \n",
    "    if sanity_check(max_cosine, 'cosine', gr_list):\n",
    "        cos_corrects += 1\n",
    "\n",
    "print('Percent of trials that resulted in local optimizers:')\n",
    "print('Sine: '+str(100* (sin_corrects/n_trials)))\n",
    "print('Cos: '+str(100* (cos_corrects/n_trials)))"
   ]
  },
  {
   "cell_type": "code",
   "execution_count": 15,
   "metadata": {},
   "outputs": [
    {
     "data": {
      "text/plain": [
       "Text(0, 0.5, 'Objective Fucnction Value')"
      ]
     },
     "execution_count": 15,
     "metadata": {},
     "output_type": "execute_result"
    },
    {
     "data": {
      "image/png": "[encoded data removed]",
      "text/plain": [
       "<Figure size 432x288 with 1 Axes>"
      ]
     },
     "metadata": {
      "needs_background": "light"
     },
     "output_type": "display_data"
    }
   ],
   "source": [
    "#convergence plots for last experiment\n",
    "plt.figure()\n",
    "plt.plot(s_err, label = 'Sine Median', color = 'blue', linestyle = 'solid')\n",
    "plt.plot(c_err, label = 'Maximum Cosine', color = 'green', linestyle = 'dashdot')\n",
    "plt.title('Maximum Cosine')\n",
    "plt.legend()\n",
    "plt.xticks([n for n in range(0,21,5)])\n",
    "plt.xlabel('Iteration')\n",
    "plt.ylabel('Objective Fucnction Value')\n"
   ]
  },
  {
   "cell_type": "markdown",
   "metadata": {},
   "source": [
    "## With MNIST"
   ]
  },
  {
   "cell_type": "code",
   "execution_count": 20,
   "metadata": {},
   "outputs": [],
   "source": [
    "'''\n",
    "Shannon Stiverson's dataloader\n",
    "\n",
    "Inputs:\n",
    "    digits- list or int for digits from MNIST to be samples\n",
    "    sample_size - number of samples of that digit\n",
    "    dset - 'train' or 'test' for sampling from the training or the test datasets\n",
    "Outputs:\n",
    "    out_datamat - a numpy array of dimensions (784 x sample_size)\n",
    "    datamat_labels - a list of labels of the sampled points\n",
    "'''\n",
    "\n",
    "def load_mnist_data(digits, sample_size=100, dset='train'):\n",
    "\n",
    "    if type(digits) == int:\n",
    "        digits = [digits]\n",
    "\n",
    "    if type(sample_size) == int:\n",
    "        sample_size = [sample_size]*len(digits)\n",
    "\n",
    "    if len(sample_size) != len(digits):\n",
    "        print('Incorrect number of sample sizes given.')\n",
    "        return [], []\n",
    "\n",
    "    return_data = []\n",
    "    return_labels = []\n",
    "\n",
    "    for i in range(len(digits)):\n",
    "        digit = digits[i]\n",
    "        size = sample_size[i]\n",
    "        digit_data = np.loadtxt('../MNIST/%s%i.csv' % (dset, digit), delimiter=',')\n",
    "        if digit_data.shape[1] < size:\n",
    "            print('Sample number for digit %i reduced to %i' % (digit, digit_data.shape[1]))\n",
    "            return_data.append(digit_data)\n",
    "            return_labels.append([digit]*digit_data.shape[1])\n",
    "        else:\n",
    "            idx = np.random.choice(np.arange(digit_data.shape[1]), size)\n",
    "            return_data.append(digit_data[idx, :])\n",
    "            return_labels.append([digit]*size)\n",
    "\n",
    "    datamat = return_data[0]\n",
    "    datamat_labels = return_labels[0]\n",
    "\n",
    "    if len(digits) > 1:\n",
    "        for i in range(1, len(digits)):\n",
    "            datamat = np.vstack((datamat, return_data[i]))\n",
    "            datamat_labels = np.hstack((datamat_labels, return_labels[i]))\n",
    "\n",
    "    out_datamat = datamat.T\n",
    "    \n",
    "    return out_datamat, datamat_labels\n"
   ]
  },
  {
   "cell_type": "code",
   "execution_count": 25,
   "metadata": {},
   "outputs": [],
   "source": [
    "'''\n",
    "calculates Flag Mean, Maximum Cosine and Sine Median for a dataset\n",
    "\n",
    "Inputs:\n",
    "    k- int for Gr(k,748)\n",
    "    num_samples2- int for number of samples of 2s\n",
    "    num_samples5- int for number of samples of 5s\n",
    "    n_its- integer for the number of iterations of FlagIRLS\n",
    "    seed- int for numpy random initialization\n",
    "Outputs:\n",
    "    flagmean- numpy array that represents Flag Mean of gr_list\n",
    "    sin_median- numpy array that represents Sine Median of gr_list\n",
    "    max_cosine- numpy array that represents Max Cosine of gr_list\n",
    "    gr_list- dataset as subspaces in Gr(k,748)\n",
    "'''\n",
    "def run_test(k,num_samples2,num_samples5,n_its,seed):\n",
    "    \n",
    "    data_matrix2 = load_mnist_data(2, k*num_samples2, dset='train')[0]\n",
    "    data_matrix5 = load_mnist_data(5, k*num_samples5, dset='train')[0]\n",
    "\n",
    "    gr_list = []\n",
    "    for i in range(num_samples2):\n",
    "        if k==1:\n",
    "            point = data_matrix2[:,:k]\n",
    "            gr_list.append(point/np.linalg.norm(point))\n",
    "        else:\n",
    "            point = data_matrix2[:,i*k:(i+1)*k]\n",
    "            gr_list.append(np.linalg.qr(point)[0][:,:k])\n",
    "\n",
    "    for i in range(num_samples5):\n",
    "        if k==1:\n",
    "            point = data_matrix5[:,:k]\n",
    "            gr_list.append(point/np.linalg.norm(point))\n",
    "        else:\n",
    "            point = data_matrix2[:,i*k:(i+1)*k]\n",
    "            gr_list.append(np.linalg.qr(point)[0][:,:k])\n",
    "            \n",
    "    \n",
    "    flagmean = ca.flag_mean(gr_list, k, fast = False)\n",
    "    print('Flag Mean finished')\n",
    "\n",
    "    #calculate sine median\n",
    "    sin_median, s_err = ca.irls_flag(gr_list, k, n_its, 'sine', fast = False, seed = seed)\n",
    "    print('Sine Median finished')\n",
    "\n",
    "    #calculate maximum cosine\n",
    "    max_cosine, c_err = ca.irls_flag(gr_list, k, n_its, 'cosine', fast = False, seed = seed)\n",
    "    print('Max Cos finished')\n",
    "\n",
    "    return flagmean, sin_median, max_cosine, gr_list"
   ]
  },
  {
   "cell_type": "code",
   "execution_count": 34,
   "metadata": {},
   "outputs": [],
   "source": [
    "'''\n",
    "creates an image of the plot_k row of each Y in Ys\n",
    "\n",
    "Inputs:\n",
    "    title- string for the plot title\n",
    "    Ys- list of numpy arrays to be plotted\n",
    "    plot_k - column to plot\n",
    "\n",
    "Outputs:\n",
    "    none\n",
    "'''\n",
    "def plot_results(title, Ys, plot_k):\n",
    "    for Y in Ys:\n",
    "        plt.figure()\n",
    "        plt.title(title)\n",
    "        plt.imshow(Y[:,plot_k].reshape(28,28), cmap = 'gray')\n",
    "        plt.axis('off')"
   ]
  },
  {
   "cell_type": "code",
   "execution_count": 38,
   "metadata": {},
   "outputs": [],
   "source": [
    "\n",
    "k = 1 #Gr(k,n)\n",
    "num_samples2 = 50 #number of samples of the 2 digit\n",
    "n_its = 20 #number of iterations for FlagIRLS\n",
    "seed = 1 #for initialization\n",
    "incr = 25 #samples 5s from 0 to num_samples2 in increments of incr\n",
    "\n",
    "plot_k = 0 #the ith column of the outputs of FlagIRLS and FlagIRLS\n",
    "\n",
    "if num_samples2 % incr != 0:\n",
    "    print('incr does not divide num_samples2 evenly!')"
   ]
  },
  {
   "cell_type": "code",
   "execution_count": 39,
   "metadata": {},
   "outputs": [
    {
     "name": "stdout",
     "output_type": "stream",
     "text": [
      "Flag Mean finished\n",
      "Sine Median finished\n",
      "Max Cos finished\n",
      "Flag Mean finished\n",
      "Sine Median finished\n",
      "Max Cos finished\n"
     ]
    }
   ],
   "source": [
    "\n",
    "\n",
    "flagmeans = []\n",
    "sin_medians = []\n",
    "max_cosines = []\n",
    "for num_samples5 in range(0,num_samples2,incr):\n",
    "    out = run_test(k,num_samples2,num_samples5,n_its,seed)\n",
    "    flagmeans.append(out[0])\n",
    "    sin_medians.append(out[1])\n",
    "    max_cosines.append(out[2])\n",
    "dataset = out[3]"
   ]
  },
  {
   "cell_type": "code",
   "execution_count": 40,
   "metadata": {},
   "outputs": [
    {
     "data": {
      "image/png": "[encoded data removed]",
      "text/plain": [
       "<Figure size 432x288 with 1 Axes>"
      ]
     },
     "metadata": {
      "needs_background": "light"
     },
     "output_type": "display_data"
    },
    {
     "data": {
      "image/png": "[encoded data removed]",
      "text/plain": [
       "<Figure size 432x288 with 1 Axes>"
      ]
     },
     "metadata": {
      "needs_background": "light"
     },
     "output_type": "display_data"
    }
   ],
   "source": [
    "plot_results('Flag Mean', flagmeans, plot_k)"
   ]
  },
  {
   "cell_type": "code",
   "execution_count": 41,
   "metadata": {},
   "outputs": [
    {
     "data": {
      "image/png": "[encoded data removed]",
      "text/plain": [
       "<Figure size 432x288 with 1 Axes>"
      ]
     },
     "metadata": {
      "needs_background": "light"
     },
     "output_type": "display_data"
    },
    {
     "data": {
      "image/png": "[encoded data removed]",
      "text/plain": [
       "<Figure size 432x288 with 1 Axes>"
      ]
     },
     "metadata": {
      "needs_background": "light"
     },
     "output_type": "display_data"
    }
   ],
   "source": [
    "plot_results('Sine Median', sin_medians, plot_k)"
   ]
  },
  {
   "cell_type": "code",
   "execution_count": 42,
   "metadata": {},
   "outputs": [
    {
     "data": {
      "image/png": "[encoded data removed]",
      "text/plain": [
       "<Figure size 432x288 with 1 Axes>"
      ]
     },
     "metadata": {
      "needs_background": "light"
     },
     "output_type": "display_data"
    },
    {
     "data": {
      "image/png": "[encoded data removed]",
      "text/plain": [
       "<Figure size 432x288 with 1 Axes>"
      ]
     },
     "metadata": {
      "needs_background": "light"
     },
     "output_type": "display_data"
    }
   ],
   "source": [
    "plot_results('Maximum Cosine', max_cosines, plot_k)"
   ]
  },
  {
   "cell_type": "code",
   "execution_count": 43,
   "metadata": {},
   "outputs": [
    {
     "data": {
      "text/plain": [
       "False"
      ]
     },
     "execution_count": 43,
     "metadata": {},
     "output_type": "execute_result"
    }
   ],
   "source": [
    "for sin_median in sine_medians:\n",
    "    if not sanity_check(sin_median, 'sine', dataset):\n",
    "        'Sine Median did not converge to optimizer'\n",
    "for max_cosine in max_cosines:\n",
    "    if not sanity_check(max_cosine, 'cosine', dataset):\n",
    "        'Maximum Cosine did not converge to optimizer'"
   ]
  },
  {
   "cell_type": "code",
   "execution_count": null,
   "metadata": {},
   "outputs": [],
   "source": []
  },
  {
   "cell_type": "code",
   "execution_count": null,
   "metadata": {},
   "outputs": [],
   "source": []
  },
  {
   "cell_type": "code",
   "execution_count": null,
   "metadata": {},
   "outputs": [],
   "source": []
  },
  {
   "cell_type": "code",
   "execution_count": null,
   "metadata": {},
   "outputs": [],
   "source": []
  },
  {
   "cell_type": "code",
   "execution_count": 16,
   "metadata": {},
   "outputs": [
    {
     "ename": "ValueError",
     "evalue": "matmul: Input operand 1 has a mismatch in its core dimension 0, with gufunc signature (n?,k),(k,m?)->(n?,m?) (size 20 is different from 2)",
     "output_type": "error",
     "traceback": [
      "\u001b[0;31m---------------------------------------------------------------------------\u001b[0m",
      "\u001b[0;31mValueError\u001b[0m                                Traceback (most recent call last)",
      "\u001b[0;32m/var/folders/xg/_sqbz6jj3fgdczbxm1zpp0nc0000gp/T/ipykernel_11004/2969081893.py\u001b[0m in \u001b[0;36m<module>\u001b[0;34m\u001b[0m\n\u001b[1;32m     17\u001b[0m \u001b[0;32mfor\u001b[0m \u001b[0mY\u001b[0m \u001b[0;32min\u001b[0m \u001b[0msample_list\u001b[0m\u001b[0;34m:\u001b[0m\u001b[0;34m\u001b[0m\u001b[0;34m\u001b[0m\u001b[0m\n\u001b[1;32m     18\u001b[0m \u001b[0;31m#     print(Y.shape)\u001b[0m\u001b[0;34m\u001b[0m\u001b[0;34m\u001b[0m\u001b[0;34m\u001b[0m\u001b[0m\n\u001b[0;32m---> 19\u001b[0;31m     \u001b[0msinsq_err\u001b[0m\u001b[0;34m.\u001b[0m\u001b[0mappend\u001b[0m\u001b[0;34m(\u001b[0m\u001b[0mca\u001b[0m\u001b[0;34m.\u001b[0m\u001b[0mcalc_error_1_2\u001b[0m\u001b[0;34m(\u001b[0m\u001b[0mgr_list\u001b[0m\u001b[0;34m,\u001b[0m \u001b[0mY\u001b[0m\u001b[0;34m,\u001b[0m \u001b[0;34m'sinesq'\u001b[0m\u001b[0;34m)\u001b[0m\u001b[0;34m)\u001b[0m\u001b[0;34m\u001b[0m\u001b[0;34m\u001b[0m\u001b[0m\n\u001b[0m\u001b[1;32m     20\u001b[0m     \u001b[0msin_err\u001b[0m\u001b[0;34m.\u001b[0m\u001b[0mappend\u001b[0m\u001b[0;34m(\u001b[0m\u001b[0mca\u001b[0m\u001b[0;34m.\u001b[0m\u001b[0mcalc_error_1_2\u001b[0m\u001b[0;34m(\u001b[0m\u001b[0mgr_list\u001b[0m\u001b[0;34m,\u001b[0m \u001b[0mY\u001b[0m\u001b[0;34m,\u001b[0m \u001b[0;34m'sine'\u001b[0m\u001b[0;34m)\u001b[0m\u001b[0;34m)\u001b[0m\u001b[0;34m\u001b[0m\u001b[0;34m\u001b[0m\u001b[0m\n\u001b[1;32m     21\u001b[0m     \u001b[0mgeo_err\u001b[0m\u001b[0;34m.\u001b[0m\u001b[0mappend\u001b[0m\u001b[0;34m(\u001b[0m\u001b[0mca\u001b[0m\u001b[0;34m.\u001b[0m\u001b[0mcalc_error_1_2\u001b[0m\u001b[0;34m(\u001b[0m\u001b[0mgr_list\u001b[0m\u001b[0;34m,\u001b[0m \u001b[0mY\u001b[0m\u001b[0;34m,\u001b[0m \u001b[0;34m'geodesic'\u001b[0m\u001b[0;34m)\u001b[0m\u001b[0;34m)\u001b[0m\u001b[0;34m\u001b[0m\u001b[0;34m\u001b[0m\u001b[0m\n",
      "\u001b[0;32m~/Documents/GradCourses/FlagIRLS/FlagIRLS/center_algorithms.py\u001b[0m in \u001b[0;36mcalc_error_1_2\u001b[0;34m(data, Y, sin_cos)\u001b[0m\n\u001b[1;32m     28\u001b[0m         \u001b[0;32mfor\u001b[0m \u001b[0mx\u001b[0m \u001b[0;32min\u001b[0m \u001b[0mdata\u001b[0m\u001b[0;34m:\u001b[0m\u001b[0;34m\u001b[0m\u001b[0;34m\u001b[0m\u001b[0m\n\u001b[1;32m     29\u001b[0m             \u001b[0mr\u001b[0m \u001b[0;34m=\u001b[0m \u001b[0mnp\u001b[0m\u001b[0;34m.\u001b[0m\u001b[0mmin\u001b[0m\u001b[0;34m(\u001b[0m\u001b[0;34m[\u001b[0m\u001b[0mk\u001b[0m\u001b[0;34m,\u001b[0m\u001b[0mx\u001b[0m\u001b[0;34m.\u001b[0m\u001b[0mshape\u001b[0m\u001b[0;34m[\u001b[0m\u001b[0;36m1\u001b[0m\u001b[0;34m]\u001b[0m\u001b[0;34m]\u001b[0m\u001b[0;34m)\u001b[0m\u001b[0;34m\u001b[0m\u001b[0;34m\u001b[0m\u001b[0m\n\u001b[0;32m---> 30\u001b[0;31m             \u001b[0msin_sq\u001b[0m \u001b[0;34m=\u001b[0m \u001b[0mr\u001b[0m \u001b[0;34m-\u001b[0m \u001b[0mnp\u001b[0m\u001b[0;34m.\u001b[0m\u001b[0mtrace\u001b[0m\u001b[0;34m(\u001b[0m\u001b[0mY\u001b[0m\u001b[0;34m.\u001b[0m\u001b[0mT\u001b[0m \u001b[0;34m@\u001b[0m \u001b[0mx\u001b[0m \u001b[0;34m@\u001b[0m \u001b[0mx\u001b[0m\u001b[0;34m.\u001b[0m\u001b[0mT\u001b[0m \u001b[0;34m@\u001b[0m \u001b[0mY\u001b[0m\u001b[0;34m)\u001b[0m\u001b[0;34m\u001b[0m\u001b[0;34m\u001b[0m\u001b[0m\n\u001b[0m\u001b[1;32m     31\u001b[0m             \u001b[0;32mif\u001b[0m \u001b[0msin_sq\u001b[0m \u001b[0;34m<\u001b[0m \u001b[0;36m0\u001b[0m\u001b[0;34m:\u001b[0m\u001b[0;34m\u001b[0m\u001b[0;34m\u001b[0m\u001b[0m\n\u001b[1;32m     32\u001b[0m                 \u001b[0msin_sq\u001b[0m \u001b[0;34m=\u001b[0m \u001b[0;36m0\u001b[0m\u001b[0;34m\u001b[0m\u001b[0;34m\u001b[0m\u001b[0m\n",
      "\u001b[0;31mValueError\u001b[0m: matmul: Input operand 1 has a mismatch in its core dimension 0, with gufunc signature (n?,k),(k,m?)->(n?,m?) (size 20 is different from 2)"
     ]
    }
   ],
   "source": [
    "#sample objective function values for points with in 100 degrees from [1,0]\n",
    "\n",
    "sinsq_err = []\n",
    "sin_err = []\n",
    "geo_err = []\n",
    "cos_err = []\n",
    "thetas = []\n",
    "Ys = np.vstack([np.random.normal(1, .5, 500), np.random.normal(0, .5, 500)])\n",
    "\n",
    "sample_list = []\n",
    "for i in range(-320,320,1):\n",
    "    theta = i/200\n",
    "    thetas.append(theta)\n",
    "    point = np.array([[np.cos(theta)], [np.sin(theta)]])\n",
    "    sample_list.append(point/np.linalg.norm(point))\n",
    "    \n",
    "for Y in sample_list:\n",
    "#     print(Y.shape)\n",
    "    sinsq_err.append(ca.calc_error_1_2(gr_list, Y, 'sinesq'))\n",
    "    sin_err.append(ca.calc_error_1_2(gr_list, Y, 'sine'))\n",
    "    geo_err.append(ca.calc_error_1_2(gr_list, Y, 'geodesic'))\n",
    "    cos_err.append(ca.calc_error_1_2(gr_list, Y, 'cosine'))"
   ]
  },
  {
   "cell_type": "code",
   "execution_count": null,
   "metadata": {},
   "outputs": [],
   "source": []
  },
  {
   "cell_type": "code",
   "execution_count": null,
   "metadata": {},
   "outputs": [],
   "source": []
  },
  {
   "cell_type": "code",
   "execution_count": null,
   "metadata": {},
   "outputs": [],
   "source": []
  },
  {
   "cell_type": "code",
   "execution_count": null,
   "metadata": {},
   "outputs": [],
   "source": [
    "#objective function value plots\n",
    "\n",
    "thetas_degrees = [t*180/np.pi for t in thetas]\n",
    "\n",
    "v_line_top = np.max([np.max(sin_err), np.max(geo_err), np.max(cos_err), np.max(sinsq_err)])\n",
    "v_line_top = np.max([np.max(sin_err), np.max(geo_err), np.max(cos_err), np.max(sinsq_err)])\n",
    "\n",
    "\n",
    "plt.plot(thetas_degrees, sin_err, label = 'Sine Median', color = 'blue', linestyle = 'solid')\n",
    "plt.plot(thetas_degrees, geo_err, label = 'Geodesic Median', color = 'orange', linestyle = 'dashed')\n",
    "plt.plot(thetas_degrees, cos_err, label = 'Maximum Cosine', color = 'green', linestyle = 'dashdot')\n",
    "plt.plot(thetas_degrees, sinsq_err, label = 'Flag Mean', color = 'red', linestyle = 'dotted')\n",
    "plt.vlines(np.arctan(sin_median[1]/sin_median[0])*180/np.pi, 0, v_line_top, color = 'blue', linestyle = 'solid')\n",
    "plt.vlines(np.arctan(geodesic_median[1]/geodesic_median[0])*180/np.pi, 0, v_line_top, color = 'orange', linestyle = 'dashed')\n",
    "plt.vlines(np.arctan(max_cosine[1]/max_cosine[0])*180/np.pi, 0, v_line_top, color = 'green', linestyle = 'dashdot')\n",
    "plt.vlines(np.arctan(flagmean[1]/flagmean[0])*180/np.pi, 0, v_line_top, color = 'red', linestyle = 'dotted')\n",
    "plt.legend()\n",
    "plt.xlabel('Angle from Horizontal Axis (degrees)')\n",
    "plt.ylabel('Objective Function Value')\n",
    "\n"
   ]
  },
  {
   "cell_type": "code",
   "execution_count": null,
   "metadata": {},
   "outputs": [],
   "source": [
    "#sanity\n",
    "#optimizer from point sampling vs algorithm\n",
    "thetas[np.argmax(cos_err)]*180/np.pi, np.arccos(np.abs(max_cosine[0]))[0]*180/np.pi"
   ]
  },
  {
   "cell_type": "code",
   "execution_count": null,
   "metadata": {},
   "outputs": [],
   "source": [
    "#sanity\n",
    "#optimizer from point sampling vs algorithm\n",
    "thetas[np.argmin(sinsq_err)]*180/np.pi, np.arccos(np.abs(flagmean[0]))[0]*180/np.pi"
   ]
  },
  {
   "cell_type": "code",
   "execution_count": null,
   "metadata": {},
   "outputs": [],
   "source": [
    "#plot point distribution and optimizers\n",
    "\n",
    "fig = plt.figure()\n",
    "ax = fig.add_subplot(111)\n",
    "\n",
    "for i in range(len(gr_list)):\n",
    "    plt.plot([-gr_list[i][0,0], gr_list[i][0,0]],[-gr_list[i][1,0],gr_list[i][1,0]], color = '.5', linestyle = 'dashed')\n",
    "\n",
    "plt.plot([-sin_median[0,0], sin_median[0,0]],[-sin_median[1,0],sin_median[1,0]], color = 'blue', label = 'Sine Median')\n",
    "plt.plot([-geodesic_median[0,0], geodesic_median[0,0]],[-geodesic_median[1,0],geodesic_median[1,0]], color = 'orange', linestyle = (0, (5, 1)), label = 'Geodesic Median')\n",
    "plt.plot([-max_cosine[0,0], max_cosine[0,0]],[-max_cosine[1,0],max_cosine[1,0]], color = 'green', label = 'Maximum Cosine', linestyle = 'dashdot')\n",
    "plt.plot([-flagmean[0,0], flagmean[0,0]],[-flagmean[1,0],flagmean[1,0]], color = 'red', linestyle = 'dotted', label = 'Flag Mean')\n",
    "plt.xlim(-1,1)\n",
    "plt.ylim(-1,1)\n",
    "ax.set_aspect('equal')\n",
    "plt.axis('off')"
   ]
  },
  {
   "cell_type": "markdown",
   "metadata": {},
   "source": [
    "# Robustness Check"
   ]
  },
  {
   "cell_type": "code",
   "execution_count": null,
   "metadata": {},
   "outputs": [],
   "source": [
    "plt.plot(thetas_degrees, sin_err, label = 'Sine Median', color = 'blue', linestyle = 'solid')\n",
    "for seed in range(200):\n",
    "    #calculate sine median\n",
    "    sin_median, s_err = ca.irls_flag(gr_list, k, n_its, 'sine', fast = False, seed = seed)\n",
    "    plt.vlines(np.arctan(sin_median[1]/sin_median[0])*180/np.pi, 0, v_line_top, color = 'red', linestyle = 'solid')\n",
    "\n",
    "plt.legend()\n",
    "    \n"
   ]
  },
  {
   "cell_type": "code",
   "execution_count": null,
   "metadata": {},
   "outputs": [],
   "source": [
    "plt.plot(thetas_degrees, geo_err, label = 'Geodesic Median', color = 'orange', linestyle = 'dashed')\n",
    "for seed in range(200):\n",
    "    #calculate geodesic median\n",
    "    geodesic_median, g_err = ca.irls_flag(gr_list, k, n_its, 'geodesic', fast = False, seed = seed)\n",
    "    plt.vlines(np.arctan(geodesic_median[1]/geodesic_median[0])*180/np.pi, 0, v_line_top, color = 'red', linestyle = 'solid')\n",
    "\n",
    "plt.legend()\n",
    "    \n"
   ]
  },
  {
   "cell_type": "code",
   "execution_count": null,
   "metadata": {},
   "outputs": [],
   "source": [
    "plt.plot(thetas_degrees, cos_err, label = 'Maximum Cosine', color = 'green', linestyle = 'dashdot')\n",
    "for seed in range(200):\n",
    "    #calculate geodesic median\n",
    "    max_cosine, c_err = ca.irls_flag(gr_list, k, n_its, 'cosine', fast = False, seed = seed)\n",
    "    plt.vlines(np.arctan(max_cosine[1]/max_cosine[0])*180/np.pi, 0, v_line_top, color = 'red')\n",
    "plt.legend()\n",
    "    "
   ]
  },
  {
   "cell_type": "code",
   "execution_count": null,
   "metadata": {},
   "outputs": [],
   "source": [
    "#only works with unique minimizer\n",
    "\n",
    "weight_type = 'geodesic'\n",
    "\n",
    "if weight_type == 'cosine':\n",
    "    optimum = np.max(cos_err)\n",
    "elif weight_type == 'sine':\n",
    "    optimum = np.min(sin_err)\n",
    "elif weight_type == 'geodesic':\n",
    "    optimum = np.min(geo_err)\n",
    "bad_Ys = []\n",
    "for seed in range(200):\n",
    "    best, c_err = ca.irls_flag(gr_list, k, n_its, weight_type, fast = False, seed = seed)\n",
    "    opt_fn_val = ca.calc_error_1_2(gr_list, best, weight_type)\n",
    "    if opt_fn_val >  optimum +.1 or opt_fn_val < optimum - .1:\n",
    "        bad_seed= seed\n",
    "        np.random.seed(seed)\n",
    "        Y_raw = np.random.rand(2,1)-.5\n",
    "        Y = np.linalg.qr(Y_raw)[0][:,:1]\n",
    "        bad_Ys.append(Y)\n",
    "    \n",
    "fig = plt.figure()\n",
    "ax = fig.add_subplot(111)\n",
    "\n",
    "for i in range(len(gr_list)):\n",
    "    plt.plot([-gr_list[i][0,0], gr_list[i][0,0]],[-gr_list[i][1,0],gr_list[i][1,0]], color = '.2', linestyle = 'dashed')\n",
    "\n",
    "for Y in bad_Ys:\n",
    "    plt.plot([-Y[0], Y[0]],[-Y[1],Y[1]], color = 'red', linestyle = 'solid', alpha= .3)\n",
    "    \n",
    "\n",
    "plt.xlim(-1,1)\n",
    "plt.ylim(-1,1)\n",
    "ax.set_aspect('equal')\n",
    "plt.axis('off')"
   ]
  },
  {
   "cell_type": "code",
   "execution_count": null,
   "metadata": {},
   "outputs": [],
   "source": []
  },
  {
   "cell_type": "code",
   "execution_count": null,
   "metadata": {},
   "outputs": [],
   "source": [
    "opt_fn_val"
   ]
  },
  {
   "cell_type": "code",
   "execution_count": null,
   "metadata": {},
   "outputs": [],
   "source": []
  }
 ],
 "metadata": {
  "interpreter": {
   "hash": "767d51c1340bd893661ea55ea3124f6de3c7a262a8b4abca0554b478b1e2ff90"
  },
  "kernelspec": {
   "display_name": "Python 3 (ipykernel)",
   "language": "python",
   "name": "python3"
  },
  "language_info": {
   "codemirror_mode": {
    "name": "ipython",
    "version": 3
   },
   "file_extension": ".py",
   "mimetype": "text/x-python",
   "name": "python",
   "nbconvert_exporter": "python",
   "pygments_lexer": "ipython3",
   "version": "3.8.2"
  }
 },
 "nbformat": 4,
 "nbformat_minor": 4
}
