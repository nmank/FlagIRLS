{
 "cells": [
  {
   "cell_type": "code",
   "execution_count": 1,
   "metadata": {},
   "outputs": [],
   "source": [
    "import scipy.io as sio\n",
    "import numpy as np\n",
    "import mat73\n",
    "import center_algorithms as ca\n",
    "import matplotlib.pyplot as plt\n",
    "import k_means as km\n",
    "import seaborn as sns\n",
    "import pandas as pd\n",
    "from sklearn.manifold import MDS\n"
   ]
  },
  {
   "cell_type": "code",
   "execution_count": 2,
   "metadata": {},
   "outputs": [
    {
     "name": "stdout",
     "output_type": "stream",
     "text": [
      "601\n"
     ]
    },
    {
     "data": {
      "text/plain": [
       "(1024, 48)"
      ]
     },
     "execution_count": 2,
     "metadata": {},
     "output_type": "execute_result"
    }
   ],
   "source": [
    "n_its= 20\n",
    "seed = 0\n",
    "\n",
    "labels_raw = sio.loadmat('./data/kmeans_action_labels.mat')['kmeans_action_labels']\n",
    "\n",
    "labels_true = [l[0][0] for l in labels_raw['labels'][0][0]]\n",
    "# labelidxs =labels_raw['labelidxs'][0][0][0]\n",
    "\n",
    "\n",
    "raw_data = mat73.loadmat('./data/kmeans_pts.mat')\n",
    "\n",
    "X = [t[0] for t in raw_data['Data']['gr_pts']]\n",
    "\n",
    "print(len(X))\n",
    "X[0].shape\n",
    "\n"
   ]
  },
  {
   "cell_type": "code",
   "execution_count": 3,
   "metadata": {},
   "outputs": [
    {
     "data": {
      "text/plain": [
       "{'push-cart': 20,\n",
       " 'clap-group': 41,\n",
       " 'ride-bike': 17,\n",
       " 'swing': 3,\n",
       " 'follow': 32,\n",
       " 'flap': 11,\n",
       " 'loiter': 185,\n",
       " 'bend': 27,\n",
       " 'run': 24,\n",
       " 'point-group': 33,\n",
       " 'cart-motion': 9,\n",
       " 'stand': 5,\n",
       " 'pickup': 27,\n",
       " 'gesture': 39,\n",
       " 'run-group': 4,\n",
       " 'walk-rifle': 7,\n",
       " 'loiter-group': 117}"
      ]
     },
     "execution_count": 3,
     "metadata": {},
     "output_type": "execute_result"
    }
   ],
   "source": [
    "label_counts = {}\n",
    "for l in labels_true:\n",
    "    label_counts[l] = len(np.where(np.array(labels_true) == l)[0])\n",
    "label_counts"
   ]
  },
  {
   "cell_type": "code",
   "execution_count": 4,
   "metadata": {},
   "outputs": [],
   "source": [
    "# #synthetic test\n",
    "# def distance_matrix(X, C, opt_type = 'sine'):\n",
    "#     n = len(X)\n",
    "#     m = len(C)\n",
    "#     Distances = np.zeros((m, n))\n",
    "#     for i in range(m):\n",
    "#         for j in range(n):\n",
    "#             Distances[i,j] = np.linalg.norm(C[i]-X[j])\n",
    "#     return Distances\n",
    "\n",
    "# X = []\n",
    "# for i in range(10):\n",
    "#     X.append(np.array([np.random.uniform(0, .5), np.random.uniform(0, .5)]))\n",
    "#     X.append(np.array([np.random.uniform(1, 1.5), np.random.uniform(1, 1.5)]))\n",
    "    \n",
    "# for x in X:\n",
    "#     plt.scatter(x[0],x[1], color = 'b')\n",
    "\n",
    "# for x in X:\n",
    "#     plt.scatter(x[0],x[1], color = 'b')\n",
    "# for c in centers:\n",
    "#     plt.scatter(c[0],c[1], color = 'y')"
   ]
  },
  {
   "cell_type": "code",
   "execution_count": 5,
   "metadata": {},
   "outputs": [],
   "source": [
    "\n",
    "'''\n",
    "datapoints rows and centers columns\n",
    "\n",
    "sine\n",
    "cosine\n",
    "sine_sq\n",
    "'''\n",
    "def distance_matrix(X, C, opt_type = 'sine'):\n",
    "    n = len(X)\n",
    "    m = len(C)\n",
    "    Distances = np.zeros((m,n))\n",
    "\n",
    "    for i in range(m):\n",
    "        for j in range(n):\n",
    "            Distances[i,j] = ca.calc_error_1_2([C[i]], X[j], opt_type)\n",
    "            \n",
    "    return Distances\n",
    "\n",
    "def cluster_purity(X, centers, opt_type):\n",
    "    #calculate distance matrix\n",
    "    d_mat = distance_matrix(X, centers, opt_type)\n",
    "\n",
    "    #find the closest center for each point\n",
    "    index = np.argmin(d_mat, axis = 0)\n",
    "    \n",
    "    count = 0\n",
    "    for i in range(len(centers)):\n",
    "        idx = np.where(index == i)[0]\n",
    "        cluster_labels = [labels_true[i] for i in idx]\n",
    "        most_common_label = max(set(cluster_labels), key = cluster_labels.count)\n",
    "        count += cluster_labels.count(most_common_label)\n",
    "\n",
    "    return count/len(X)"
   ]
  },
  {
   "cell_type": "code",
   "execution_count": 6,
   "metadata": {},
   "outputs": [],
   "source": [
    "\n",
    "def lbg_subspace(X, n_centers = 17, opt_type = 'sine', n_its = 10):\n",
    "    n_centers \n",
    "    n_pts = len(X)\n",
    "    error = 1\n",
    "    opt_type \n",
    "    new_distortion = 0\n",
    "    n_its = 10\n",
    "    r = 48\n",
    "\n",
    "    #init centers\n",
    "    centers = []\n",
    "    for i in range(n_centers):\n",
    "        centers.append(X[np.random.randint(n_pts)])\n",
    "\n",
    "\n",
    "    errors = []\n",
    "    distortions = []\n",
    "    while error > .00001:\n",
    "\n",
    "        old_distortion = new_distortion\n",
    "\n",
    "        m = len(centers)\n",
    "\n",
    "        #calculate distance matrix\n",
    "        d_mat = distance_matrix(X, centers, opt_type)\n",
    "\n",
    "        #find the closest center for each point\n",
    "        index = np.argmin(d_mat, axis = 0)\n",
    "\n",
    "        centers = []\n",
    "        for c in range(m):\n",
    "            idx = np.where(index == c)[0]\n",
    "            if len(idx) > 0:\n",
    "                if opt_type == 'sine_sq':\n",
    "                    centers.append(ca.flag_mean([X[i] for i in idx], r, fast = False))\n",
    "                else:\n",
    "                    centers.append(ca.irls_flag([X[i] for i in idx], r, n_its, opt_type, opt_type)[0])\n",
    "        #         centers.append(np.mean([X[i] for i in idx], axis = 0))\n",
    "\n",
    "        new_distortion = np.sum(d_mat[index])\n",
    "\n",
    "        error = np.abs(new_distortion - old_distortion)/new_distortion\n",
    "        errors.append(error)\n",
    "        print(error)\n",
    "\n",
    "    return centers, error\n",
    "\n",
    "\n",
    "\n"
   ]
  },
  {
   "cell_type": "code",
   "execution_count": null,
   "metadata": {},
   "outputs": [
    {
     "name": "stdout",
     "output_type": "stream",
     "text": [
      "sin start\n"
     ]
    }
   ],
   "source": [
    "print('sin start')\n",
    "centers_sin, error_sin = lbg_subspace(X, n_centers = 4, opt_type = 'sine', n_its = 10)\n",
    "print('cos start')\n",
    "centers_cos, error_cos = lbg_subspace(X, n_centers = 4, opt_type = 'cossine', n_its = 10)\n",
    "print('flg start')\n",
    "centers_flg, error_flg = lbg_subspace(X, n_centers = 4, opt_type = 'sine_sq', n_its = 10)"
   ]
  },
  {
   "cell_type": "code",
   "execution_count": null,
   "metadata": {},
   "outputs": [],
   "source": []
  },
  {
   "cell_type": "code",
   "execution_count": null,
   "metadata": {},
   "outputs": [],
   "source": [
    "\n"
   ]
  },
  {
   "cell_type": "code",
   "execution_count": null,
   "metadata": {},
   "outputs": [],
   "source": []
  }
 ],
 "metadata": {
  "kernelspec": {
   "display_name": "Python 3 (ipykernel)",
   "language": "python",
   "name": "python3"
  },
  "language_info": {
   "codemirror_mode": {
    "name": "ipython",
    "version": 3
   },
   "file_extension": ".py",
   "mimetype": "text/x-python",
   "name": "python",
   "nbconvert_exporter": "python",
   "pygments_lexer": "ipython3",
   "version": "3.8.2"
  }
 },
 "nbformat": 4,
 "nbformat_minor": 4
}
