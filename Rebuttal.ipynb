{
 "cells": [
  {
   "cell_type": "code",
   "execution_count": 1,
   "metadata": {},
   "outputs": [],
   "source": [
    "import numpy as np\n",
    "import center_algorithms as ca\n",
    "import matplotlib.pyplot as plt\n",
    "import time\n",
    "import pandas"
   ]
  },
  {
   "cell_type": "code",
   "execution_count": 2,
   "metadata": {},
   "outputs": [],
   "source": [
    "\n",
    "num_points = 20\n",
    "\n",
    "n_its = 500\n",
    "\n",
    "n_trials = 10"
   ]
  },
  {
   "cell_type": "code",
   "execution_count": 3,
   "metadata": {},
   "outputs": [
    {
     "name": "stderr",
     "output_type": "stream",
     "text": [
      "/home/katrina/a/mankovic/FlagIRLS/center_algorithms.py:299: FutureWarning: elementwise comparison failed; returning scalar instead, but in the future will perform elementwise comparison\n",
      "  if init == 'random':\n",
      "/home/katrina/a/mankovic/FlagIRLS/center_algorithms.py:304: FutureWarning: elementwise comparison failed; returning scalar instead, but in the future will perform elementwise comparison\n",
      "  elif init == 'data':\n"
     ]
    },
    {
     "name": "stdout",
     "output_type": "stream",
     "text": [
      "0 done.\n",
      "1 done.\n",
      "2 done.\n",
      "3 done.\n",
      "4 done.\n",
      "5 done.\n",
      "6 done.\n",
      "7 done.\n",
      "8 done.\n",
      "9 done.\n",
      "10 done.\n",
      "11 done.\n",
      "12 done.\n",
      "13 done.\n",
      "14 done.\n",
      "15 done.\n",
      "16 done.\n",
      "17 done.\n",
      "18 done.\n",
      "19 done.\n"
     ]
    }
   ],
   "source": [
    "n = 10000\n",
    "r = 10\n",
    "ks = [i for i in range(1,21)]\n",
    "mean_times = []\n",
    "std_times = []\n",
    "for j in range(20):\n",
    "    k = ks[j]\n",
    "\n",
    "    trial_times = []\n",
    "    for seed in range(n_trials):\n",
    "        np.random.seed(seed)\n",
    "        center = np.random.rand(n,k)*10\n",
    "        center_rep = np.linalg.qr(center)[0][:,:k]\n",
    "\n",
    "        #generate dataset of points in Gr(k,n)\n",
    "        data = []\n",
    "        for i in range(num_points):\n",
    "            Y_raw = center_rep + (np.random.rand(n,k)-.5)*.01\n",
    "            Y = np.linalg.qr(Y_raw)[0][:,:k]\n",
    "            data.append(Y)\n",
    "\n",
    "        np.random.seed(1)\n",
    "        Y_init = np.linalg.qr(np.random.rand(n,n))[0][:,:k]\n",
    "        \n",
    "        start = time.time()\n",
    "\n",
    "        errors = ca.irls_flag(data, k, n_its, 'sine', opt_err = 'sine', fast = False, init = Y_init)[1]\n",
    "\n",
    "        trial_times.append(time.time()- start)\n",
    "\n",
    "    \n",
    "\n",
    "    mean_times.append(np.mean(trial_times))\n",
    "    std_times.append(np.std(trial_times))\n",
    "\n",
    "    # iterations.append(len(errors))\n",
    "    print(str(j)+' done.')"
   ]
  },
  {
   "cell_type": "code",
   "execution_count": null,
   "metadata": {},
   "outputs": [],
   "source": []
  },
  {
   "cell_type": "code",
   "execution_count": 4,
   "metadata": {},
   "outputs": [],
   "source": [
    "\n",
    "trial_stats = pandas.DataFrame(columns = ['k','Mean', 'Std'])\n",
    "trial_stats['k'] = ks\n",
    "trial_stats['Mean'] = mean_times\n",
    "trial_stats['Std'] = std_times\n"
   ]
  },
  {
   "cell_type": "code",
   "execution_count": 4,
   "metadata": {},
   "outputs": [],
   "source": [
    "times = pandas.read_csv('run_times_trial.csv')"
   ]
  },
  {
   "cell_type": "code",
   "execution_count": 10,
   "metadata": {},
   "outputs": [
    {
     "data": {
      "text/plain": [
       "([<matplotlib.axis.XTick at 0x7fad1ae8bee0>,\n",
       "  <matplotlib.axis.XTick at 0x7fad1ae8beb0>,\n",
       "  <matplotlib.axis.XTick at 0x7fad1b1508b0>,\n",
       "  <matplotlib.axis.XTick at 0x7fad1ae36e80>,\n",
       "  <matplotlib.axis.XTick at 0x7fad1ae43610>,\n",
       "  <matplotlib.axis.XTick at 0x7fad1ae43d60>,\n",
       "  <matplotlib.axis.XTick at 0x7fad1ae484f0>,\n",
       "  <matplotlib.axis.XTick at 0x7fad1ae438b0>,\n",
       "  <matplotlib.axis.XTick at 0x7fad1ae48b20>,\n",
       "  <matplotlib.axis.XTick at 0x7fad1ae4f070>,\n",
       "  <matplotlib.axis.XTick at 0x7fad1ae4f730>,\n",
       "  <matplotlib.axis.XTick at 0x7fad1ae4fe80>,\n",
       "  <matplotlib.axis.XTick at 0x7fad1add6610>,\n",
       "  <matplotlib.axis.XTick at 0x7fad1add6d60>,\n",
       "  <matplotlib.axis.XTick at 0x7fad1add6880>,\n",
       "  <matplotlib.axis.XTick at 0x7fad1ae4f490>,\n",
       "  <matplotlib.axis.XTick at 0x7fad1addb2e0>,\n",
       "  <matplotlib.axis.XTick at 0x7fad1addb910>,\n",
       "  <matplotlib.axis.XTick at 0x7fad1ade40a0>,\n",
       "  <matplotlib.axis.XTick at 0x7fad1ade47f0>],\n",
       " [Text(0, 0, ''),\n",
       "  Text(0, 0, ''),\n",
       "  Text(0, 0, ''),\n",
       "  Text(0, 0, ''),\n",
       "  Text(0, 0, ''),\n",
       "  Text(0, 0, ''),\n",
       "  Text(0, 0, ''),\n",
       "  Text(0, 0, ''),\n",
       "  Text(0, 0, ''),\n",
       "  Text(0, 0, ''),\n",
       "  Text(0, 0, ''),\n",
       "  Text(0, 0, ''),\n",
       "  Text(0, 0, ''),\n",
       "  Text(0, 0, ''),\n",
       "  Text(0, 0, ''),\n",
       "  Text(0, 0, ''),\n",
       "  Text(0, 0, ''),\n",
       "  Text(0, 0, ''),\n",
       "  Text(0, 0, ''),\n",
       "  Text(0, 0, '')])"
      ]
     },
     "execution_count": 10,
     "metadata": {},
     "output_type": "execute_result"
    },
    {
     "data": {
      "image/png": "[encoded data removed]",
      "text/plain": [
       "<Figure size 432x288 with 1 Axes>"
      ]
     },
     "metadata": {
      "needs_background": "light"
     },
     "output_type": "display_data"
    }
   ],
   "source": [
    "plt.plot(times['k'], times['Mean'])\n",
    "plt.fill_between(times['k'], times['Mean']-times['Std'], times['Mean'] + times['Std'], alpha = .56)\n",
    "plt.title('FlagIRLS for Flag Median of 20 data points in Gr(k,10000)', size = 16)\n",
    "plt.xlabel('k', size = 16)\n",
    "plt.ylabel('Run time (seconds)', size = 16)\n",
    "plt.xticks(times['k'])"
   ]
  },
  {
   "cell_type": "code",
   "execution_count": null,
   "metadata": {},
   "outputs": [
    {
     "name": "stdout",
     "output_type": "stream",
     "text": [
      "29.138014316558838\n"
     ]
    }
   ],
   "source": [
    "import time\n",
    "\n",
    "start = time.time()\n",
    "np.linalg.svd(Y)\n",
    "print(time.time()-start)"
   ]
  },
  {
   "cell_type": "code",
   "execution_count": null,
   "metadata": {},
   "outputs": [],
   "source": []
  }
 ],
 "metadata": {
  "interpreter": {
   "hash": "9a16b7d45e15add018271b8879906ed388208b17729257166cad5f2212e101aa"
  },
  "kernelspec": {
   "display_name": "Python 3.8.8 64-bit ('base': conda)",
   "language": "python",
   "name": "python3"
  },
  "language_info": {
   "codemirror_mode": {
    "name": "ipython",
    "version": 3
   },
   "file_extension": ".py",
   "mimetype": "text/x-python",
   "name": "python",
   "nbconvert_exporter": "python",
   "pygments_lexer": "ipython3",
   "version": "3.8.8"
  },
  "orig_nbformat": 4
 },
 "nbformat": 4,
 "nbformat_minor": 2
}
