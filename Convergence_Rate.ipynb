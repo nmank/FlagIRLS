{
 "cells": [
  {
   "cell_type": "code",
   "execution_count": 3,
   "metadata": {},
   "outputs": [],
   "source": [
    "import center_algorithms as ca\n",
    "import numpy as np\n",
    "from matplotlib import pyplot as plt"
   ]
  },
  {
   "cell_type": "code",
   "execution_count": 16,
   "metadata": {},
   "outputs": [
    {
     "name": "stdout",
     "output_type": "stream",
     "text": [
      "Sine Median finished\n",
      "Sine Median finished\n",
      "Sine Median finished\n",
      "Sine Median finished\n",
      "Sine Median finished\n",
      "Sine Median finished\n",
      "Sine Median finished\n",
      "Sine Median finished\n",
      "Sine Median finished\n",
      "Sine Median finished\n",
      "Sine Median finished\n",
      "Sine Median finished\n",
      "Sine Median finished\n",
      "Sine Median finished\n",
      "Sine Median finished\n",
      "Sine Median finished\n",
      "Sine Median finished\n",
      "Sine Median finished\n",
      "Sine Median finished\n",
      "Sine Median finished\n",
      "Sine Median finished\n",
      "Sine Median finished\n",
      "Sine Median finished\n",
      "Sine Median finished\n",
      "Sine Median finished\n",
      "Sine Median finished\n",
      "Sine Median finished\n",
      "Sine Median finished\n",
      "Sine Median finished\n",
      "Sine Median finished\n",
      "Sine Median finished\n",
      "Sine Median finished\n",
      "Sine Median finished\n",
      "Sine Median finished\n",
      "Sine Median finished\n",
      "Sine Median finished\n",
      "Sine Median finished\n",
      "Sine Median finished\n",
      "Sine Median finished\n",
      "Sine Median finished\n",
      "Sine Median finished\n",
      "Sine Median finished\n",
      "Sine Median finished\n",
      "Sine Median finished\n",
      "Sine Median finished\n",
      "Sine Median finished\n",
      "Sine Median finished\n",
      "Sine Median finished\n",
      "Sine Median finished\n",
      "Sine Median finished\n",
      "Sine Median finished\n",
      "Sine Median finished\n",
      "Sine Median finished\n",
      "Sine Median finished\n",
      "Sine Median finished\n",
      "Sine Median finished\n",
      "Sine Median finished\n",
      "Sine Median finished\n",
      "Sine Median finished\n",
      "Sine Median finished\n",
      "Sine Median finished\n",
      "Sine Median finished\n",
      "Sine Median finished\n",
      "Sine Median finished\n",
      "Sine Median finished\n",
      "Sine Median finished\n",
      "Sine Median finished\n",
      "Sine Median finished\n",
      "Sine Median finished\n",
      "Sine Median finished\n",
      "Sine Median finished\n",
      "Sine Median finished\n",
      "Sine Median finished\n",
      "Sine Median finished\n",
      "Sine Median finished\n",
      "Sine Median finished\n",
      "Sine Median finished\n",
      "Sine Median finished\n",
      "Sine Median finished\n",
      "Sine Median finished\n",
      "Sine Median finished\n",
      "Sine Median finished\n",
      "Sine Median finished\n",
      "Sine Median finished\n",
      "Sine Median finished\n",
      "Sine Median finished\n",
      "Sine Median finished\n",
      "Sine Median finished\n",
      "Sine Median finished\n",
      "Sine Median finished\n",
      "Sine Median finished\n",
      "Sine Median finished\n",
      "Sine Median finished\n",
      "Sine Median finished\n",
      "Sine Median finished\n",
      "Sine Median finished\n",
      "Sine Median finished\n",
      "Sine Median finished\n",
      "Sine Median finished\n",
      "Sine Median finished\n"
     ]
    }
   ],
   "source": [
    "\n",
    "\n",
    "k=10 #Gr(k1,n)\n",
    "r=10\n",
    "n=100\n",
    "n_its = 20 #number of iterations for FlagIRLS\n",
    "seed = 1 #random seed\n",
    "num_points = 1000 #number of points in dataset\n",
    "n_trials = 100 #number of trials for sanity check\n",
    "\n",
    "errors = []\n",
    "for s in range(100):\n",
    "    np.random.seed(s)\n",
    "\n",
    "    center = np.random.rand(n,k)\n",
    "    center_rep = np.linalg.qr(center)[0][:,:k]\n",
    "\n",
    "    #generate dataset of points in Gr(k,n)\n",
    "\n",
    "\n",
    "\n",
    "    gr_list = []\n",
    "    for i in range(num_points):\n",
    "        Y_raw = center_rep + (np.random.rand(n,k)-.5)*.1\n",
    "        Y = np.linalg.qr(Y_raw)[0][:,:k]\n",
    "        gr_list.append(Y)\n",
    "\n",
    "\n",
    "\n",
    "    #calculate sine median\n",
    "    sin_median, s_err = ca.irls_flag(gr_list, r, n_its, 'sine', opt_err = 'sine', fast = False, seed = seed)\n",
    "    print('Sine Median finished')\n",
    "\n",
    "    errors.append(s_err)\n"
   ]
  },
  {
   "cell_type": "code",
   "execution_count": 20,
   "metadata": {},
   "outputs": [
    {
     "data": {
      "image/png": "[encoded data removed]",
      "text/plain": [
       "<Figure size 432x288 with 1 Axes>"
      ]
     },
     "metadata": {
      "needs_background": "light"
     },
     "output_type": "display_data"
    }
   ],
   "source": [
    "for i in range(100):\n",
    "    plt.plot(errors[i])\n",
    "\n",
    "plt.yscale('log')"
   ]
  },
  {
   "cell_type": "code",
   "execution_count": null,
   "metadata": {},
   "outputs": [],
   "source": []
  }
 ],
 "metadata": {
  "kernelspec": {
   "display_name": "Python 3.8.8 ('base')",
   "language": "python",
   "name": "python3"
  },
  "language_info": {
   "codemirror_mode": {
    "name": "ipython",
    "version": 3
   },
   "file_extension": ".py",
   "mimetype": "text/x-python",
   "name": "python",
   "nbconvert_exporter": "python",
   "pygments_lexer": "ipython3",
   "version": "3.8.8"
  },
  "orig_nbformat": 4,
  "vscode": {
   "interpreter": {
    "hash": "9a16b7d45e15add018271b8879906ed388208b17729257166cad5f2212e101aa"
   }
  }
 },
 "nbformat": 4,
 "nbformat_minor": 2
}
