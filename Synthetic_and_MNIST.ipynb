{
 "cells": [
  {
   "cell_type": "code",
   "execution_count": 1,
   "metadata": {},
   "outputs": [],
   "source": [
    "import numpy as np\n",
    "import center_algorithms as ca\n",
    "import matplotlib.pyplot as plt"
   ]
  },
  {
   "cell_type": "markdown",
   "metadata": {},
   "source": [
    "A script for examples for Sine Median and Maximum Cosine problems on Gr(k,n) where k>1"
   ]
  },
  {
   "cell_type": "markdown",
   "metadata": {},
   "source": [
    "## Synthetic Example"
   ]
  },
  {
   "cell_type": "code",
   "execution_count": 2,
   "metadata": {},
   "outputs": [],
   "source": [
    "k1=3 #Gr(k1,n)\n",
    "k2=5 #Gr(k2,n)\n",
    "r=3\n",
    "n=20\n",
    "n_its = 20 #number of iterations for FlagIRLS\n",
    "seed = 1 #random seed\n",
    "num_points = 200 #number of points in dataset\n",
    "n_trials = 100 #number of trials for sanity check"
   ]
  },
  {
   "cell_type": "code",
   "execution_count": 3,
   "metadata": {},
   "outputs": [],
   "source": [
    "#generate dataset of points in Gr(ki,n)\n",
    "#half the points are in Gr(k1,n) and the second half are in Gr(k2,n)\n",
    "\n",
    "np.random.seed(seed)\n",
    "\n",
    "gr_list = []\n",
    "for i in range(1 + num_points//2):\n",
    "    Y_raw = np.random.rand(n,n)-.5\n",
    "    Y = np.linalg.qr(Y_raw)[0][:,:k1]\n",
    "    gr_list.append(Y)\n",
    "for i in range(num_points//2):\n",
    "    Y_raw = np.random.rand(n,n)-.5\n",
    "    Y = np.linalg.qr(Y_raw)[0][:,:k2]\n",
    "    gr_list.append(Y)\n"
   ]
  },
  {
   "cell_type": "code",
   "execution_count": 4,
   "metadata": {},
   "outputs": [],
   "source": [
    "'''\n",
    "This function verifies that we found a local optimizer for\n",
    "the sine median or maximum cosine problem.\n",
    "It does this by checking 100 points around the optimizer.\n",
    "\n",
    "Inputs: \n",
    "    optimizer- a numpy array that represente the suggested optimizer\n",
    "    opf_fn- a string, 'sine' for sine median and 'cosine' for maximum cosine\n",
    "    data- a list of numpy arrays representing points on grassmannians\n",
    "Outputs:\n",
    "    local optimizer- True if all checked points result in objective function values\n",
    "                        that are greater than the Sine Median problem or smaller than\n",
    "                        the Maximum Cosine value\n",
    "'''\n",
    "def sanity_check(optimizer, opt_fn, data):\n",
    "    \n",
    "    n,r = optimizer.shape\n",
    "    \n",
    "    \n",
    "    #objective function value for suggested optimizer\n",
    "    sln_val = ca.calc_error_1_2(data, optimizer, opt_fn) \n",
    "    \n",
    "    #stays true if optimizer is a local min\n",
    "    local_optimizer = True\n",
    "\n",
    "    #checking random points\n",
    "    perturb_vals = []\n",
    "    for i in range(100):\n",
    "        \n",
    "        #random points between -.5 and .5 times .01\n",
    "        perturb = (np.random.rand(n,r)-5)*.01 \n",
    "        perturb_check = np.linalg.qr(perturb + optimizer)[0][:,:r]\n",
    "        \n",
    "        #check objective function value\n",
    "        perturb_vals.append(ca.calc_error_1_2(data, perturb_check, opt_fn))\n",
    "\n",
    "        if opt_fn == 'sine':\n",
    "            if perturb_vals[i] < sln_val:\n",
    "                local_optimizer = False\n",
    "#                 print(perturb_vals[i])\n",
    "#                 print(sln_val)\n",
    "#                 print('FlagIRLS did not converge to minimizer')\n",
    "        elif opt_fn == 'cosine':\n",
    "            if perturb_vals[i] > sln_val:\n",
    "                local_optimizer = False\n",
    "#                 print(perturb_vals[i])\n",
    "#                 print(sln_val)\n",
    "#                 print('FlagIRLS did not converge to maximizer')\n",
    "    return local_optimizer"
   ]
  },
  {
   "cell_type": "code",
   "execution_count": 5,
   "metadata": {},
   "outputs": [
    {
     "name": "stdout",
     "output_type": "stream",
     "text": [
      "Percent of trials that resulted in local optimizers:\n",
      "Sine: 100.0\n",
      "Cos: 100.0\n"
     ]
    }
   ],
   "source": [
    "#check robustness to initialization\n",
    "\n",
    "#do n_trials\n",
    "\n",
    "sin_corrects = 0\n",
    "cos_corrects = 0\n",
    "\n",
    "for seed in range(n_trials):\n",
    "    #use different initialization for each trial using seed\n",
    "    \n",
    "    #calculate sine median\n",
    "    sin_median, s_err = ca.irls_flag(gr_list, r, n_its, 'sine', opt_err = 'sine', fast = False, seed = seed)\n",
    "#     print('Sine Median finished')\n",
    "\n",
    "    #calculate maximum cosine\n",
    "    max_cosine, c_err = ca.irls_flag(gr_list, r, n_its, 'cosine', opt_err = 'cosine', fast = False, seed = seed)\n",
    "#     print('Max Cos finished')\n",
    "    \n",
    "    if sanity_check(sin_median, 'sine', gr_list):\n",
    "        sin_corrects += 1        \n",
    "    if sanity_check(max_cosine, 'cosine', gr_list):\n",
    "        cos_corrects += 1\n",
    "\n",
    "print('Percent of trials that resulted in local optimizers:')\n",
    "print('Sine: '+str(100* (sin_corrects/n_trials)))\n",
    "print('Cos: '+str(100* (cos_corrects/n_trials)))"
   ]
  },
  {
   "cell_type": "code",
   "execution_count": 6,
   "metadata": {},
   "outputs": [
    {
     "data": {
      "text/plain": [
       "Text(0, 0.5, 'Objective Fucnction Value')"
      ]
     },
     "execution_count": 6,
     "metadata": {},
     "output_type": "execute_result"
    },
    {
     "data": {
      "image/png": "[encoded data removed]",
      "text/plain": [
       "<Figure size 432x288 with 1 Axes>"
      ]
     },
     "metadata": {
      "needs_background": "light"
     },
     "output_type": "display_data"
    }
   ],
   "source": [
    "#convergence plots for last experiment\n",
    "plt.figure()\n",
    "plt.plot(s_err, label = 'Sine Median', color = 'blue', linestyle = 'solid')\n",
    "plt.plot(c_err, label = 'Maximum Cosine', color = 'green', linestyle = 'dashdot')\n",
    "plt.title('Maximum Cosine')\n",
    "plt.legend()\n",
    "plt.xticks([n for n in range(0,21,5)])\n",
    "plt.xlabel('Iteration')\n",
    "plt.ylabel('Objective Fucnction Value')\n"
   ]
  },
  {
   "cell_type": "markdown",
   "metadata": {},
   "source": [
    "## With MNIST"
   ]
  },
  {
   "cell_type": "code",
   "execution_count": 7,
   "metadata": {},
   "outputs": [],
   "source": [
    "'''\n",
    "Shannon Stiverson's dataloader\n",
    "\n",
    "Inputs:\n",
    "    digits- list or int for digits from MNIST to be samples\n",
    "    sample_size - number of samples of that digit\n",
    "    dset - 'train' or 'test' for sampling from the training or the test datasets\n",
    "Outputs:\n",
    "    out_datamat - a numpy array of dimensions (784 x sample_size)\n",
    "    datamat_labels - a list of labels of the sampled points\n",
    "'''\n",
    "\n",
    "def load_mnist_data(digits, sample_size=100, dset='train', shuffle = False):\n",
    "\n",
    "    if type(digits) == int:\n",
    "        digits = [digits]\n",
    "\n",
    "    if type(sample_size) == int:\n",
    "        sample_size = [sample_size]*len(digits)\n",
    "\n",
    "    if len(sample_size) != len(digits):\n",
    "        print('Incorrect number of sample sizes given.')\n",
    "        return [], []\n",
    "\n",
    "    return_data = []\n",
    "    return_labels = []\n",
    "\n",
    "    for i in range(len(digits)):\n",
    "        digit = digits[i]\n",
    "        size = sample_size[i]\n",
    "        digit_data = np.loadtxt('../MNIST/%s%i.csv' % (dset, digit), delimiter=',')\n",
    "        if digit_data.shape[1] < size:\n",
    "            print('Sample number for digit %i reduced to %i' % (digit, digit_data.shape[1]))\n",
    "            return_data.append(digit_data)\n",
    "            return_labels.append([digit]*digit_data.shape[1])\n",
    "        else:\n",
    "            if shuffle:\n",
    "                idx = np.random.choice(np.arange(digit_data.shape[1]), size)\n",
    "            else:\n",
    "                idx = np.arange(size)\n",
    "            return_data.append(digit_data[idx, :])\n",
    "            return_labels.append([digit]*size)\n",
    "\n",
    "    datamat = return_data[0]\n",
    "    datamat_labels = return_labels[0]\n",
    "\n",
    "    if len(digits) > 1:\n",
    "        for i in range(1, len(digits)):\n",
    "            datamat = np.vstack((datamat, return_data[i]))\n",
    "            datamat_labels = np.hstack((datamat_labels, return_labels[i]))\n",
    "\n",
    "    out_datamat = datamat.T\n",
    "    \n",
    "    return out_datamat, datamat_labels\n"
   ]
  },
  {
   "cell_type": "code",
   "execution_count": 8,
   "metadata": {},
   "outputs": [],
   "source": [
    "'''\n",
    "calculates Flag Mean, Maximum Cosine and Sine Median for a dataset\n",
    "\n",
    "Inputs:\n",
    "    k- int for Gr(k,748)\n",
    "    num_samples2- int for number of samples of 2s\n",
    "    num_samples5- int for number of samples of 5s\n",
    "    n_its- integer for the number of iterations of FlagIRLS\n",
    "    seed- int for numpy random initialization\n",
    "Outputs:\n",
    "    flagmean- numpy array that represents Flag Mean of gr_list\n",
    "    sin_median- numpy array that represents Sine Median of gr_list\n",
    "    max_cosine- numpy array that represents Max Cosine of gr_list\n",
    "    gr_list- dataset as subspaces in Gr(k,748)\n",
    "'''\n",
    "def run_test(k,num_samples2,num_samples5,n_its,seed):\n",
    "    \n",
    "    data_matrix2 = load_mnist_data(2, k*num_samples2, dset='train')[0]\n",
    "    data_matrix5 = load_mnist_data(5, k*num_samples5, dset='train')[0]\n",
    "\n",
    "    gr_list = []\n",
    "    for i in range(num_samples2):\n",
    "        if k==1:\n",
    "            point = data_matrix2[:,:k]\n",
    "            gr_list.append(point/np.linalg.norm(point))\n",
    "        else:\n",
    "            point = data_matrix2[:,i*k:(i+1)*k]\n",
    "            gr_list.append(np.linalg.qr(point)[0][:,:k])\n",
    "\n",
    "    for i in range(num_samples5):\n",
    "        if k==1:\n",
    "            point = data_matrix5[:,:k]\n",
    "            gr_list.append(point/np.linalg.norm(point))\n",
    "        else:\n",
    "            point = data_matrix2[:,i*k:(i+1)*k]\n",
    "            gr_list.append(np.linalg.qr(point)[0][:,:k])\n",
    "            \n",
    "    \n",
    "    flagmean = ca.flag_mean(gr_list, k, fast = False)\n",
    "    print('Flag Mean finished')\n",
    "\n",
    "    #calculate sine median\n",
    "    sin_median, s_err = ca.irls_flag(gr_list, k, n_its, 'sine', fast = False, seed = seed)\n",
    "    print('Sine Median finished')\n",
    "\n",
    "    #calculate maximum cosine\n",
    "    max_cosine, c_err = ca.irls_flag(gr_list, k, n_its, 'cosine', fast = False, seed = seed)\n",
    "    print('Max Cos finished')\n",
    "\n",
    "    return flagmean, sin_median, max_cosine, gr_list"
   ]
  },
  {
   "cell_type": "code",
   "execution_count": 9,
   "metadata": {},
   "outputs": [],
   "source": [
    "'''\n",
    "creates an image of the plot_k row of each Y in Ys\n",
    "\n",
    "Inputs:\n",
    "    title- string for the plot title\n",
    "    Ys- list of numpy arrays to be plotted\n",
    "    plot_k - column to plot\n",
    "\n",
    "Outputs:\n",
    "    none\n",
    "'''\n",
    "def plot_results(title, Ys, plot_k):\n",
    "    for Y in Ys:\n",
    "        plt.figure()\n",
    "        plt.title(title)\n",
    "        plt.imshow(Y[:,plot_k].reshape(28,28), cmap = 'gray')\n",
    "        plt.axis('off')"
   ]
  },
  {
   "cell_type": "code",
   "execution_count": 10,
   "metadata": {},
   "outputs": [],
   "source": [
    "\n",
    "k = 1 #Gr(k,n)\n",
    "num_samples2 = 50 #number of samples of the 2 digit\n",
    "n_its = 20 #number of iterations for FlagIRLS\n",
    "seed = 1 #for initialization\n",
    "incr = 25 #samples 5s from 0 to num_samples2 in increments of incr\n",
    "\n",
    "plot_k = 0 #the ith column of the outputs of FlagIRLS and FlagIRLS\n",
    "\n",
    "if num_samples2 % incr != 0:\n",
    "    print('incr does not divide num_samples2 evenly!')"
   ]
  },
  {
   "cell_type": "code",
   "execution_count": 11,
   "metadata": {},
   "outputs": [
    {
     "name": "stdout",
     "output_type": "stream",
     "text": [
      "Flag Mean finished\n",
      "Sine Median finished\n",
      "Max Cos finished\n",
      "Flag Mean finished\n",
      "Sine Median finished\n",
      "Max Cos finished\n"
     ]
    }
   ],
   "source": [
    "\n",
    "\n",
    "flagmeans = []\n",
    "sin_medians = []\n",
    "max_cosines = []\n",
    "for num_samples5 in range(0,num_samples2,incr):\n",
    "    out = run_test(k,num_samples2,num_samples5,n_its,seed)\n",
    "    flagmeans.append(out[0])\n",
    "    sin_medians.append(out[1])\n",
    "    max_cosines.append(out[2])\n",
    "dataset = out[3]"
   ]
  },
  {
   "cell_type": "code",
   "execution_count": 12,
   "metadata": {},
   "outputs": [
    {
     "data": {
      "image/png": "[encoded data removed]",
      "text/plain": [
       "<Figure size 432x288 with 1 Axes>"
      ]
     },
     "metadata": {
      "needs_background": "light"
     },
     "output_type": "display_data"
    },
    {
     "data": {
      "image/png": "[encoded data removed]",
      "text/plain": [
       "<Figure size 432x288 with 1 Axes>"
      ]
     },
     "metadata": {
      "needs_background": "light"
     },
     "output_type": "display_data"
    }
   ],
   "source": [
    "plot_results('Flag Mean', flagmeans, plot_k)"
   ]
  },
  {
   "cell_type": "code",
   "execution_count": 13,
   "metadata": {},
   "outputs": [
    {
     "data": {
      "image/png": "[encoded data removed]",
      "text/plain": [
       "<Figure size 432x288 with 1 Axes>"
      ]
     },
     "metadata": {
      "needs_background": "light"
     },
     "output_type": "display_data"
    },
    {
     "data": {
      "image/png": "[encoded data removed]",
      "text/plain": [
       "<Figure size 432x288 with 1 Axes>"
      ]
     },
     "metadata": {
      "needs_background": "light"
     },
     "output_type": "display_data"
    }
   ],
   "source": [
    "plot_results('Sine Median', sin_medians, plot_k)"
   ]
  },
  {
   "cell_type": "code",
   "execution_count": 14,
   "metadata": {},
   "outputs": [
    {
     "data": {
      "image/png": "[encoded data removed]",
      "text/plain": [
       "<Figure size 432x288 with 1 Axes>"
      ]
     },
     "metadata": {
      "needs_background": "light"
     },
     "output_type": "display_data"
    },
    {
     "data": {
      "image/png": "[encoded data removed]",
      "text/plain": [
       "<Figure size 432x288 with 1 Axes>"
      ]
     },
     "metadata": {
      "needs_background": "light"
     },
     "output_type": "display_data"
    }
   ],
   "source": [
    "plot_results('Maximum Cosine', max_cosines, plot_k)"
   ]
  },
  {
   "cell_type": "code",
   "execution_count": 15,
   "metadata": {},
   "outputs": [
    {
     "name": "stdout",
     "output_type": "stream",
     "text": [
      "Check finished.\n"
     ]
    }
   ],
   "source": [
    "for sin_median in sin_medians:\n",
    "    if not sanity_check(sin_median, 'sine', dataset):\n",
    "        'Sine Median did not converge to optimizer'\n",
    "for max_cosine in max_cosines:\n",
    "    if not sanity_check(max_cosine, 'cosine', dataset):\n",
    "        'Maximum Cosine did not converge to optimizer'\n",
    "print('Check finished.')"
   ]
  },
  {
   "cell_type": "code",
   "execution_count": null,
   "metadata": {},
   "outputs": [],
   "source": []
  },
  {
   "cell_type": "code",
   "execution_count": null,
   "metadata": {},
   "outputs": [],
   "source": []
  },
  {
   "cell_type": "code",
   "execution_count": null,
   "metadata": {},
   "outputs": [],
   "source": []
  },
  {
   "cell_type": "code",
   "execution_count": null,
   "metadata": {},
   "outputs": [],
   "source": []
  },
  {
   "cell_type": "code",
   "execution_count": null,
   "metadata": {},
   "outputs": [],
   "source": []
  },
  {
   "cell_type": "code",
   "execution_count": null,
   "metadata": {},
   "outputs": [],
   "source": []
  }
 ],
 "metadata": {
  "interpreter": {
   "hash": "767d51c1340bd893661ea55ea3124f6de3c7a262a8b4abca0554b478b1e2ff90"
  },
  "kernelspec": {
   "display_name": "Python 3 (ipykernel)",
   "language": "python",
   "name": "python3"
  },
  "language_info": {
   "codemirror_mode": {
    "name": "ipython",
    "version": 3
   },
   "file_extension": ".py",
   "mimetype": "text/x-python",
   "name": "python",
   "nbconvert_exporter": "python",
   "pygments_lexer": "ipython3",
   "version": "3.8.2"
  }
 },
 "nbformat": 4,
 "nbformat_minor": 4
}
