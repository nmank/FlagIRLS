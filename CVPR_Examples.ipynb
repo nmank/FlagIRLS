{
 "cells": [
  {
   "cell_type": "markdown",
   "metadata": {},
   "source": [
    "# Flag Median and FlagIRLS\n",
    "\n",
    "These are the examples for The Flag Median and FlagIRLS 2021 CVPR submission."
   ]
  },
  {
   "cell_type": "code",
   "execution_count": 4,
   "metadata": {},
   "outputs": [],
   "source": [
    "import numpy as np\n",
    "import center_algorithms as ca\n",
    "import matplotlib.pyplot as plt\n",
    "import numpy as np"
   ]
  },
  {
   "cell_type": "code",
   "execution_count": 36,
   "metadata": {},
   "outputs": [],
   "source": [
    "'''\n",
    "This function verifies that we found a local optimizer for\n",
    "the sine median or maximum cosine problem.\n",
    "It does this by checking 100 points around the optimizer.\n",
    "\n",
    "Inputs: \n",
    "    optimizer- a numpy array that represente the suggested optimizer\n",
    "    opf_fn- a string, 'sine' for sine median and 'cosine' for maximum cosine\n",
    "    data- a list of numpy arrays representing points on grassmannians\n",
    "Outputs:\n",
    "    local optimizer- True if all checked points rsesult in objective function values\n",
    "                        that are greater than the Sine Median problem or smaller than\n",
    "                        the Maximum Cosine value\n",
    "'''\n",
    "def sanity_check(optimizer, opt_fn, data):\n",
    "    \n",
    "    n,r = optimizer.shape\n",
    "    \n",
    "    \n",
    "    #objective function value for suggested optimizer\n",
    "    sln_val = ca.calc_error_1_2(data, optimizer, opt_fn) \n",
    "    \n",
    "    #stays true if optimizer is a local min\n",
    "    local_optimizer = True\n",
    "\n",
    "    #checking random points\n",
    "    perturb_vals = []\n",
    "    for i in range(100):\n",
    "        \n",
    "        #random points between -.5 and .5 times .01\n",
    "        perturb = (np.random.rand(n,r)-5)*.00001 \n",
    "        perturb_check = np.linalg.qr(perturb + optimizer)[0][:,:r]\n",
    "        \n",
    "        #check objective function value\n",
    "        perturb_vals.append(ca.calc_error_1_2(data, perturb_check, opt_fn))\n",
    "\n",
    "        if opt_fn == 'sine' or opt_fn == 'l2_med':\n",
    "            if perturb_vals[i] < sln_val:\n",
    "                local_optimizer = False\n",
    "                print('Algorithm did not converge to minimizer')\n",
    "\n",
    "    if not local_optimizer:\n",
    "        print(sln_val)\n",
    "        print(perturb_vals)\n",
    "    return local_optimizer\n",
    "\n",
    "def calc_chordal_dist(X, Y, r):\n",
    "    sum_sin = r- np.trace(X.T @ Y @ Y.T @ X)\n",
    "    if sum_sin < 0:\n",
    "        sum_sin = 0\n",
    "    return np.sqrt(sum_sin)\n",
    "\n",
    "    "
   ]
  },
  {
   "cell_type": "markdown",
   "metadata": {},
   "source": [
    "## Convergence Example"
   ]
  },
  {
   "cell_type": "code",
   "execution_count": 7,
   "metadata": {},
   "outputs": [],
   "source": [
    "k1=3 #Gr(k1,n)\n",
    "k2=5 #Gr(k2,n)\n",
    "r=3\n",
    "n=20\n",
    "n_its = 100 #number of iterations for FlagIRLS\n",
    "seed = 1 #random seed\n",
    "num_points = 20 #number of points in dataset\n",
    "n_trials = 100 #number of trials for sanity check\n",
    "\n",
    "#generate dataset of points in Gr(ki,n)\n",
    "#half the points are in Gr(k1,n) and the second half are in Gr(k2,n)\n",
    "\n",
    "np.random.seed(0)\n",
    "\n",
    "gr_list = []\n",
    "for i in range(1 + num_points//2):\n",
    "    Y_raw = np.random.rand(n,k1)-.5\n",
    "    Y = np.linalg.qr(Y_raw)[0][:,:k1]\n",
    "    gr_list.append(Y)\n",
    "for i in range(num_points//2):\n",
    "    Y_raw = np.random.rand(n,k2)-.5\n",
    "    Y = np.linalg.qr(Y_raw)[0][:,:k2]\n",
    "    gr_list.append(Y)\n"
   ]
  },
  {
   "cell_type": "markdown",
   "metadata": {},
   "source": [
    "### Verify Convergence"
   ]
  },
  {
   "cell_type": "code",
   "execution_count": 10,
   "metadata": {},
   "outputs": [
    {
     "name": "stdout",
     "output_type": "stream",
     "text": [
      "100.0 percent of trials that resulted in local optimizers\n"
     ]
    }
   ],
   "source": [
    "n_corrects = 0\n",
    "\n",
    "for seed in range(1,n_trials+1):\n",
    "    #use different initialization for each trial using seed\n",
    "    \n",
    "    #calculate sine median\n",
    "    \n",
    "    \n",
    "    # print('Sine Median finished')\n",
    "    \n",
    "    \n",
    "    if sanity_check(flag_median, 'sine', gr_list):\n",
    "        n_corrects += 1        \n",
    "\n",
    "\n",
    "print(str(100* (n_corrects/n_trials))+' percent of trials that resulted in local optimizers')"
   ]
  },
  {
   "cell_type": "markdown",
   "metadata": {},
   "source": [
    "### Comparison to Gradient Descent"
   ]
  },
  {
   "cell_type": "code",
   "execution_count": 28,
   "metadata": {},
   "outputs": [
    {
     "data": {
      "text/plain": [
       "Text(0, 0.5, 'Objective Function Value')"
      ]
     },
     "execution_count": 28,
     "metadata": {},
     "output_type": "execute_result"
    },
    {
     "data": {
      "image/png": "[encoded data removed]",
      "text/plain": [
       "<Figure size 432x288 with 1 Axes>"
      ]
     },
     "metadata": {
      "needs_background": "light"
     },
     "output_type": "display_data"
    }
   ],
   "source": [
    "flg_errs = []\n",
    "gd_errs = []\n",
    "for seed in range(100):\n",
    "    flg_errs.append(np.array(ca.irls_flag(gr_list, r, n_its, 'sine', opt_err = 'sine', fast = False, seed = 0)[1]))\n",
    "    gd_errs.append(np.array(ca.gradient_descent(gr_list, r, -.01, n_its, 'sine', seed = 0)[1]))\n",
    "\n",
    "flg_err = np.mean(np.vstack(flg_errs), axis = 0)\n",
    "gd_err = np.mean(np.vstack(gd_errs), axis = 0)\n",
    "\n",
    "plt.figure()\n",
    "plt.plot(gd_err[:len(flg_err)], label = 'Gradient Descent', color = 'black', linestyle = 'dotted')\n",
    "plt.plot(flg_err, label = 'FlagIRLS', color = 'blue', linestyle = 'solid')\n",
    "plt.title('Flag Median')\n",
    "plt.legend()\n",
    "# plt.xticks([n for n in range(0,21,5)])\n",
    "plt.xlabel('Iteration')\n",
    "plt.ylabel('Objective Function Value')"
   ]
  },
  {
   "cell_type": "markdown",
   "metadata": {},
   "source": [
    "## FlagIRLS vs Weiszfeld"
   ]
  },
  {
   "cell_type": "code",
   "execution_count": 29,
   "metadata": {},
   "outputs": [
    {
     "data": {
      "text/plain": [
       "<matplotlib.legend.Legend at 0x7ff8ed5a2940>"
      ]
     },
     "execution_count": 29,
     "metadata": {},
     "output_type": "execute_result"
    },
    {
     "data": {
      "image/png": "[encoded data removed]",
      "text/plain": [
       "<Figure size 432x288 with 1 Axes>"
      ]
     },
     "metadata": {
      "needs_background": "light"
     },
     "output_type": "display_data"
    }
   ],
   "source": [
    "k=6 #Gr(k1,n)\n",
    "r=6\n",
    "n=100\n",
    "n_its = 20 #number of iterations for FlagIRLS\n",
    "seed = 0\n",
    "\n",
    "num_points = 200 #number of points in dataset\n",
    "n_trials = 100 #number of trials for sanity check\n",
    "\n",
    "np.random.seed(0)\n",
    "\n",
    "center = np.random.rand(n,k)*10\n",
    "center_rep = np.linalg.qr(center)[0][:,:k]\n",
    "\n",
    "diameter = 10**(-2)\n",
    "#generate dataset of points in Gr(k,n)\n",
    "gr_list = []\n",
    "for i in range(num_points):\n",
    "    Y_raw = center_rep + (np.random.rand(n,k)-.5)*diameter\n",
    "    Y = np.linalg.qr(Y_raw)[0][:,:k]\n",
    "    gr_list.append(Y)\n",
    "\n",
    "#calculate flag mean\n",
    "flag_mean = ca.flag_mean(gr_list, r)\n",
    "\n",
    "#calculate sine median\n",
    "sin_median, s_err = ca.irls_flag(gr_list, r, n_its, 'sine', opt_err = 'sine', fast = False, seed = seed)\n",
    "\n",
    "#calc l2 median\n",
    "l2_med, l2_err = ca.l2_median(gr_list, .1, r, 150, seed)\n",
    "\n",
    "plt.plot(s_err+(150-len(s_err))*[s_err[-1]], color = 'tab:blue', linestyle ='solid', label = 'FlagIRLS for the Flag Median')\n",
    "plt.plot(l2_err, color = 'tab:orange', linestyle ='dashdot', label = 'Weiszfeld-type Algorithm for the L2 Median')\n",
    "plt.xlabel('Iteration')\n",
    "plt.ylabel('Objective Function Value')\n",
    "plt.legend()\n"
   ]
  },
  {
   "cell_type": "markdown",
   "metadata": {},
   "source": [
    "## Cluster with Outliers"
   ]
  },
  {
   "cell_type": "code",
   "execution_count": 37,
   "metadata": {},
   "outputs": [
    {
     "name": "stdout",
     "output_type": "stream",
     "text": [
      "Flag Mean finished\n",
      "Sine Median finished\n",
      "L2 median finished\n",
      "sine median converged correctly\n",
      "l2 median converged correctly\n",
      "flag mean chordal dist is: 0.0128494446016294\n",
      "sine median chordal dist is: 0.001715488326324446\n",
      "l2 median chordal dist is: 0.0022241550979146965\n",
      ".\n",
      ".\n",
      ".\n",
      "flag mean geodesic dist is: 0.012849582003268316\n",
      "sine median geodesic dist is: 0.0017154886903002246\n",
      "l2 median geodesic dist is: 0.0022241559318089002\n"
     ]
    },
    {
     "data": {
      "image/png": "[encoded data removed]",
      "text/plain": [
       "<Figure size 432x288 with 2 Axes>"
      ]
     },
     "metadata": {
      "needs_background": "light"
     },
     "output_type": "display_data"
    },
    {
     "data": {
      "image/png": "[encoded data removed]",
      "text/plain": [
       "<Figure size 432x288 with 2 Axes>"
      ]
     },
     "metadata": {
      "needs_background": "light"
     },
     "output_type": "display_data"
    },
    {
     "data": {
      "image/png": "[encoded data removed]",
      "text/plain": [
       "<Figure size 432x288 with 1 Axes>"
      ]
     },
     "metadata": {
      "needs_background": "light"
     },
     "output_type": "display_data"
    },
    {
     "data": {
      "image/png": "[encoded data removed]",
      "text/plain": [
       "<Figure size 432x288 with 1 Axes>"
      ]
     },
     "metadata": {
      "needs_background": "light"
     },
     "output_type": "display_data"
    }
   ],
   "source": [
    "k=3 #Gr(k1,n)\n",
    "r=3\n",
    "n=20\n",
    "n_its = 20 #number of iterations for FlagIRLS\n",
    "seed = 1 #random seed\n",
    "num_points = 200 #number of points in dataset\n",
    "n_trials = 100 #number of trials for sanity check\n",
    "\n",
    "np.random.seed(seed)\n",
    "\n",
    "center = np.random.rand(n,k)*10\n",
    "center_rep = np.linalg.qr(center)[0][:,:k]\n",
    "\n",
    "#generate dataset of points in Gr(k,n)\n",
    "\n",
    "\n",
    "\n",
    "gr_list = []\n",
    "for i in range(num_points- np.int(num_points*.10)):\n",
    "    Y_raw = center_rep + (np.random.rand(n,k)-.5)*.01\n",
    "    Y = np.linalg.qr(Y_raw)[0][:,:k]\n",
    "    gr_list.append(Y)\n",
    "    \n",
    "for i in range(np.int(num_points*.10)):\n",
    "    Y_raw = np.random.rand(n,k)-.5\n",
    "    Y = np.linalg.qr(Y_raw)[0][:,:k]\n",
    "    gr_list.append(Y)\n",
    "    \n",
    "total_p = len(gr_list)\n",
    "D = np.zeros((total_p, total_p))\n",
    "for i in range(total_p):\n",
    "    for j in range(i+1,total_p):\n",
    "        D[i,j] = calc_chordal_dist(gr_list[i], gr_list[j], r)\n",
    "        D[j,i] = D[i,j].copy()\n",
    "\n",
    "fig = plt.figure()\n",
    "im = plt.imshow(D, cmap = 'pink')\n",
    "fig.colorbar(im)\n",
    "plt.title('Chordal Distance Between Data Points')\n",
    "\n",
    "D = np.zeros((total_p, total_p))\n",
    "for i in range(total_p):\n",
    "    for j in range(i+1,total_p):\n",
    "        D[i,j] = ca.gr_dist(gr_list[i], gr_list[j])\n",
    "        D[j,i] = D[i,j].copy()\n",
    "\n",
    "fig = plt.figure()\n",
    "im = plt.imshow(D, cmap = 'pink')\n",
    "fig.colorbar(im)\n",
    "plt.title('Geodesic Distance Between Data Points')\n",
    "\n",
    "\n",
    "#calculate flag mean\n",
    "flag_mean = ca.flag_mean(gr_list, r)\n",
    "print('Flag Mean finished')\n",
    "\n",
    "#calculate sine median\n",
    "sin_median, s_err = ca.irls_flag(gr_list, r, n_its, 'sine', opt_err = 'sine', fast = False, seed = seed)\n",
    "print('Sine Median finished')\n",
    "\n",
    "#calculate l2 median\n",
    "l2_med, l2_err = ca.l2_median(gr_list, .1, r, 1000, seed)\n",
    "print('L2 median finished')\n",
    "    \n",
    "if sanity_check(sin_median, 'sine', gr_list):\n",
    "    print('sine median converged correctly')      \n",
    "if sanity_check(l2_med, 'l2_med', gr_list):\n",
    "    print('l2 median converged correctly') \n",
    "    \n",
    "plt.figure()\n",
    "plt.plot(s_err)\n",
    "plt.title('Sine Median')\n",
    "plt.xlabel('Iteration')\n",
    "plt.ylabel('Objective Function Value')\n",
    "\n",
    "\n",
    "plt.figure()\n",
    "plt.plot(l2_err)\n",
    "plt.title('L2 Median')\n",
    "plt.xlabel('Iteration')\n",
    "plt.ylabel('Objective Function Value')\n",
    "\n",
    "    \n",
    "print('flag mean chordal dist is: ' +str(calc_chordal_dist(center_rep, flag_mean, r)))\n",
    "\n",
    "print('sine median chordal dist is: ' +str(calc_chordal_dist(center_rep, sin_median, r)))\n",
    "\n",
    "print('l2 median chordal dist is: ' +str(calc_chordal_dist(center_rep, l2_med, r)))\n",
    "\n",
    "print('.')\n",
    "print('.')\n",
    "print('.')\n",
    "\n",
    "print('flag mean geodesic dist is: ' +str(ca.gr_dist(center_rep, flag_mean)))\n",
    "\n",
    "print('sine median geodesic dist is: ' +str(ca.gr_dist(center_rep, sin_median)))\n",
    "\n",
    "print('l2 median geodesic dist is: ' +str(ca.gr_dist(center_rep, l2_med)))\n",
    "\n"
   ]
  },
  {
   "cell_type": "markdown",
   "metadata": {},
   "source": [
    "## MNIST Examples"
   ]
  },
  {
   "cell_type": "code",
   "execution_count": 1,
   "metadata": {},
   "outputs": [],
   "source": [
    "\n",
    "\n",
    "def load_mnist_data(digits, sample_size=100, dset='train', shuffle = False):\n",
    "    '''\n",
    "    Shannon Stiverson's dataloader\n",
    "\n",
    "    Inputs:\n",
    "        digits- list or int for digits from MNIST to be samples\n",
    "        sample_size - number of samples of that digit\n",
    "        dset - 'train' or 'test' for sampling from the training or the test datasets\n",
    "    Outputs:\n",
    "        out_datamat - a numpy array of dimensions (784 x sample_size)\n",
    "        datamat_labels - a list of labels of the sampled points\n",
    "    '''\n",
    "\n",
    "    if type(digits) == int:\n",
    "        digits = [digits]\n",
    "\n",
    "    if type(sample_size) == int:\n",
    "        sample_size = [sample_size]*len(digits)\n",
    "\n",
    "    if len(sample_size) != len(digits):\n",
    "        print('Incorrect number of sample sizes given.')\n",
    "        return [], []\n",
    "\n",
    "    return_data = []\n",
    "    return_labels = []\n",
    "\n",
    "    for i in range(len(digits)):\n",
    "        digit = digits[i]\n",
    "        size = sample_size[i]\n",
    "        digit_data = np.loadtxt('../MNIST/%s%i.csv' % (dset, digit), delimiter=',')\n",
    "        if digit_data.shape[1] < size:\n",
    "            print('Sample number for digit %i reduced to %i' % (digit, digit_data.shape[1]))\n",
    "            return_data.append(digit_data)\n",
    "            return_labels.append([digit]*digit_data.shape[1])\n",
    "        else:\n",
    "            if shuffle:\n",
    "                idx = np.random.choice(np.arange(digit_data.shape[1]), size)\n",
    "            else:\n",
    "                idx = np.arange(size)\n",
    "            return_data.append(digit_data[idx, :])\n",
    "            return_labels.append([digit]*size)\n",
    "\n",
    "    datamat = return_data[0]\n",
    "    datamat_labels = return_labels[0]\n",
    "\n",
    "    if len(digits) > 1:\n",
    "        for i in range(1, len(digits)):\n",
    "            datamat = np.vstack((datamat, return_data[i]))\n",
    "            datamat_labels = np.hstack((datamat_labels, return_labels[i]))\n",
    "\n",
    "    out_datamat = datamat.T\n",
    "    \n",
    "    return out_datamat, datamat_labels\n",
    "\n",
    "'''\n",
    "This function verifies that we found a local optimizer for\n",
    "the sine median or maximum cosine problem.\n",
    "It does this by checking 100 points around the optimizer.\n",
    "\n",
    "Inputs: \n",
    "    optimizer- a numpy array that represente the suggested optimizer\n",
    "    opf_fn- a string, 'sine' for sine median and 'cosine' for maximum cosine\n",
    "    data- a list of numpy arrays representing points on grassmannians\n",
    "Outputs:\n",
    "    local optimizer- True if all checked points rsesult in objective function values\n",
    "                        that are greater than the Sine Median problem or smaller than\n",
    "                        the Maximum Cosine value\n",
    "'''\n",
    "def mnist_sanity_check(optimizer, opt_fn, data):\n",
    "    \n",
    "    n,r = optimizer.shape\n",
    "    \n",
    "    \n",
    "    #objective function value for suggested optimizer\n",
    "    sln_val = ca.calc_error_1_2(data, optimizer, opt_fn) \n",
    "    \n",
    "    #stays true if optimizer is a local min\n",
    "    local_optimizer = True\n",
    "\n",
    "    #checking random points\n",
    "    perturb_vals = []\n",
    "    for i in range(100):\n",
    "        \n",
    "        #random points between -.5 and .5 times .01\n",
    "        perturb = (np.random.rand(n,r)-5)*.00001 \n",
    "        perturb_check = np.linalg.qr(perturb + optimizer)[0][:,:r]\n",
    "        \n",
    "        #check objective function value\n",
    "        perturb_vals.append(ca.calc_error_1_2(data, perturb_check, opt_fn))\n",
    "\n",
    "        if opt_fn == 'sine' or opt_fn == 'l2_med':\n",
    "            if perturb_vals[i] < sln_val:\n",
    "                local_optimizer = False\n",
    "#                 print(perturb_vals[i])\n",
    "#                 print(sln_val)\n",
    "#                 print('FlagIRLS did not converge to minimizer')\n",
    "        elif opt_fn == 'cosine':\n",
    "            if perturb_vals[i] > sln_val:\n",
    "                local_optimizer = False\n",
    "#                 print(perturb_vals[i])\n",
    "#                 print(sln_val)\n",
    "#                 print('FlagIRLS did not converge to maximizer')\n",
    "\n",
    "    # if not local_optimizer:\n",
    "    #     print(sln_val)\n",
    "    #     print(perturb_vals)\n",
    "    return local_optimizer\n",
    "\n",
    "\n",
    "def run_mnist_test(k, digit1, digit2, num_samples1, num_samples2,n_its,seed):\n",
    "    '''\n",
    "    calculates Flag Mean, Maximum Cosine and Sine Median for a dataset\n",
    "\n",
    "    Inputs:\n",
    "        k- int for Gr(k,784)\n",
    "        digit1- int for first digit\n",
    "        digit2- int for second digit\n",
    "        num_samples1- int for number of samples of digit1s\n",
    "        num_samples2- int for number of samples of digit2s\n",
    "        n_its- integer for the number of iterations of FlagIRLS\n",
    "        seed- int for numpy random initialization\n",
    "    Outputs:\n",
    "        flagmean- numpy array that represents Flag Mean of gr_list\n",
    "        sin_median- numpy array that represents Sine Median of gr_list\n",
    "        max_cosine- numpy array that represents Max Cosine of gr_list\n",
    "        gr_list- dataset as subspaces in Gr(k,748)\n",
    "    '''\n",
    "    \n",
    "    data_matrix1 = load_mnist_data(digit1, k*num_samples1, dset='train')[0]\n",
    "    data_matrix2 = load_mnist_data(digit2, k*num_samples2, dset='train')[0]\n",
    "\n",
    "    gr_list = []\n",
    "    for i in range(num_samples1):\n",
    "        #TODO: make sure we're taking more than one two\n",
    "        if k==1:\n",
    "            point = data_matrix1[:,i*k:(i+1)*k]\n",
    "            gr_list.append(point/np.linalg.norm(point))\n",
    "        else:\n",
    "            point = data_matrix1[:,i*k:(i+1)*k]\n",
    "            gr_list.append(np.linalg.qr(point)[0][:,:k])\n",
    "\n",
    "    for i in range(num_samples2):\n",
    "        if k==1:\n",
    "            point = data_matrix2[:,i*k:(i+1)*k]\n",
    "            gr_list.append(point/np.linalg.norm(point))\n",
    "        else:\n",
    "            point = data_matrix2[:,i*k:(i+1)*k]\n",
    "            gr_list.append(np.linalg.qr(point)[0][:,:k])\n",
    "            \n",
    "    \n",
    "    flagmean = ca.flag_mean(gr_list, k, fast = False)\n",
    "    print('Flag Mean finished')\n",
    "\n",
    "    #calculate sine median\n",
    "    sin_median = ca.irls_flag(gr_list, k, n_its, 'sine', opt_err = 'sine', fast = False, seed = seed)[0]\n",
    "    print('Chordal Median finished')\n",
    "\n",
    "    \n",
    "    #calculate l2 median\n",
    "    #do it more than once if needed\n",
    "    worked = False\n",
    "    l2_seed = seed\n",
    "    while not worked:\n",
    "        l2_med = ca.l2_median(gr_list, .1, k, 1000, l2_seed)[0]\n",
    "        worked = mnist_sanity_check(l2_med, 'l2_med', gr_list)\n",
    "        print('l2 trial')\n",
    "        l2_seed+=1\n",
    "        \n",
    "    print('L2 median finished')\n",
    "    \n",
    "    return flagmean, sin_median, l2_med, gr_list"
   ]
  },
  {
   "cell_type": "markdown",
   "metadata": {},
   "source": [
    "### MNIST 2s and 5s"
   ]
  },
  {
   "cell_type": "code",
   "execution_count": 2,
   "metadata": {},
   "outputs": [],
   "source": [
    "k = 1 #Gr(k,n)\n",
    "digit1 = 2\n",
    "digit2 = 5\n",
    "num_samples1 = 20 #number of samples of the 2 digit\n",
    "n_its = 20 #number of iterations for FlagIRLS\n",
    "seed = 1 #for initialization\n",
    "incr = 1 #samples 5s from 0 to num_samples2 in increments of incr\n",
    "\n",
    "plot_k = 0 #the ith column of the outputs of FlagIRLS and FlagIRLS\n",
    "\n",
    "if num_samples1 % incr != 0:\n",
    "    print('incr does not divide num_samples1 evenly!')\n",
    "\n"
   ]
  },
  {
   "cell_type": "code",
   "execution_count": 5,
   "metadata": {},
   "outputs": [
    {
     "name": "stdout",
     "output_type": "stream",
     "text": [
      "Flag Mean finished\n",
      "Chordal Median finished\n",
      "l2 trial\n",
      "L2 median finished\n",
      "Flag Mean finished\n",
      "Chordal Median finished\n",
      "l2 trial\n",
      "L2 median finished\n",
      "Flag Mean finished\n",
      "Chordal Median finished\n",
      "l2 trial\n",
      "L2 median finished\n",
      "Flag Mean finished\n",
      "Chordal Median finished\n",
      "l2 trial\n",
      "L2 median finished\n",
      "Flag Mean finished\n",
      "Chordal Median finished\n",
      "l2 trial\n",
      "L2 median finished\n",
      "Flag Mean finished\n",
      "Chordal Median finished\n",
      "l2 trial\n",
      "L2 median finished\n",
      "Flag Mean finished\n",
      "Chordal Median finished\n",
      "l2 trial\n",
      "L2 median finished\n",
      "Flag Mean finished\n",
      "Chordal Median finished\n",
      "l2 trial\n",
      "L2 median finished\n",
      "Flag Mean finished\n",
      "Chordal Median finished\n",
      "l2 trial\n",
      "L2 median finished\n",
      "Flag Mean finished\n",
      "Chordal Median finished\n",
      "l2 trial\n",
      "L2 median finished\n",
      "Flag Mean finished\n",
      "Chordal Median finished\n",
      "l2 trial\n",
      "L2 median finished\n",
      "Flag Mean finished\n",
      "Chordal Median finished\n"
     ]
    }
   ],
   "source": [
    "flagmeans = []\n",
    "sin_medians = []\n",
    "l2_meds = []\n",
    "n2s  = []\n",
    "n5s = []\n",
    "\n",
    "for num_samples2 in range(0,num_samples1,incr):\n",
    "    out = run_mnist_test(k,digit1,digit2,num_samples1,num_samples2,n_its,seed)\n",
    "    flagmeans.append(out[0])\n",
    "    sin_medians.append(out[1])\n",
    "    l2_meds.append(out[2])\n",
    "    n2s.append(num_samples1)\n",
    "    n5s.append(num_samples2)\n",
    "    dataset = out[3]\n",
    "\n",
    "num_tests = num_samples1//incr\n",
    "#differences from 0\n",
    "flagmean_diffs = []\n",
    "sin_medians_diffs = []\n",
    "l2_meds_diffs = []\n",
    "for ii in range(num_tests):\n",
    "#     print(ca.calc_error_1_2([flagmeans[ii]],flagmeans[0],'geodesic'))\n",
    "    flagmean_diffs.append(ca.calc_error_1_2([flagmeans[ii]],flagmeans[0],'geodesic'))\n",
    "\n",
    "    sin_medians_diffs.append(ca.calc_error_1_2([sin_medians[ii]],sin_medians[0],'geodesic'))\n",
    "    \n",
    "    l2_meds_diffs.append(ca.calc_error_1_2([l2_meds[ii]],l2_meds[0],'geodesic'))\n",
    "    \n",
    "\n",
    "xs = [i for i in range(0,11,incr)]\n",
    "\n",
    "plt.plot(xs, sin_medians_diffs[:11], label = 'Flag Median')\n",
    "plt.plot(xs, l2_meds_diffs[:11], label = 'L2 Median', linestyle = 'dashdot')\n",
    "plt.plot(xs, flagmean_diffs[:11], label = 'Flag Mean', linestyle = 'dotted')\n",
    "plt.xticks([0,2,4,6,8,10])\n",
    "plt.title(str(num_samples1)+' Examples of Twos with Added Fives')\n",
    "plt.xlabel('Number of Added Fives')\n",
    "plt.ylabel('Geodesic Distance')\n",
    "plt.legend()\n"
   ]
  },
  {
   "cell_type": "markdown",
   "metadata": {},
   "source": []
  }
 ],
 "metadata": {
  "interpreter": {
   "hash": "31f2aee4e71d21fbe5cf8b01ff0e069b9275f58929596ceb00d14d90e3e16cd6"
  },
  "kernelspec": {
   "display_name": "Python 3.6.8 64-bit",
   "name": "python3"
  },
  "language_info": {
   "codemirror_mode": {
    "name": "ipython",
    "version": 3
   },
   "file_extension": ".py",
   "mimetype": "text/x-python",
   "name": "python",
   "nbconvert_exporter": "python",
   "pygments_lexer": "ipython3",
   "version": "3.6.8"
  },
  "orig_nbformat": 4
 },
 "nbformat": 4,
 "nbformat_minor": 2
}
