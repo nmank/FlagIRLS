{
 "cells": [
  {
   "cell_type": "code",
   "execution_count": 1,
   "metadata": {},
   "outputs": [],
   "source": [
    "import scipy.io as sio\n",
    "import numpy as np\n",
    "import mat73\n",
    "import center_algorithms as ca\n",
    "import matplotlib.pyplot as plt\n",
    "import seaborn as sns\n",
    "import pandas\n",
    "from sklearn.manifold import MDS\n"
   ]
  },
  {
   "cell_type": "code",
   "execution_count": 2,
   "metadata": {},
   "outputs": [
    {
     "name": "stdout",
     "output_type": "stream",
     "text": [
      "601\n"
     ]
    },
    {
     "data": {
      "text/plain": [
       "(1024, 48)"
      ]
     },
     "execution_count": 2,
     "metadata": {},
     "output_type": "execute_result"
    }
   ],
   "source": [
    "n_its= 10\n",
    "seed = 0\n",
    "\n",
    "labels_raw = sio.loadmat('./data/kmeans_action_labels.mat')['kmeans_action_labels']\n",
    "\n",
    "labels_true = [l[0][0] for l in labels_raw['labels'][0][0]]\n",
    "# labelidxs =labels_raw['labelidxs'][0][0][0]\n",
    "\n",
    "\n",
    "raw_data = mat73.loadmat('./data/kmeans_pts.mat')\n",
    "\n",
    "X = [t[0] for t in raw_data['Data']['gr_pts']]\n",
    "\n",
    "print(len(X))\n",
    "X[0].shape"
   ]
  },
  {
   "cell_type": "code",
   "execution_count": 3,
   "metadata": {},
   "outputs": [
    {
     "data": {
      "text/plain": [
       "{'push-cart': 20,\n",
       " 'clap-group': 41,\n",
       " 'ride-bike': 17,\n",
       " 'swing': 3,\n",
       " 'follow': 32,\n",
       " 'flap': 11,\n",
       " 'loiter': 185,\n",
       " 'bend': 27,\n",
       " 'run': 24,\n",
       " 'point-group': 33,\n",
       " 'cart-motion': 9,\n",
       " 'stand': 5,\n",
       " 'pickup': 27,\n",
       " 'gesture': 39,\n",
       " 'run-group': 4,\n",
       " 'walk-rifle': 7,\n",
       " 'loiter-group': 117}"
      ]
     },
     "execution_count": 3,
     "metadata": {},
     "output_type": "execute_result"
    }
   ],
   "source": [
    "label_counts = {}\n",
    "for l in labels_true:\n",
    "    label_counts[l] = len(np.where(np.array(labels_true) == l)[0])\n",
    "label_counts"
   ]
  },
  {
   "cell_type": "code",
   "execution_count": 4,
   "metadata": {},
   "outputs": [],
   "source": [
    "idx = []\n",
    "for the_labels in ['run', 'pickup', 'bend','follow', 'ride-bike']:\n",
    "# for the_labels in ['run', 'stand', 'pickup']:\n",
    "# for the_labels in ['run', 'stand', 'walk-rifle']: #for winning sine median\n",
    "    idx += list(np.where(np.array(labels_true) == the_labels)[0])"
   ]
  },
  {
   "cell_type": "code",
   "execution_count": 5,
   "metadata": {},
   "outputs": [
    {
     "data": {
      "text/plain": [
       "['run',\n",
       " 'run',\n",
       " 'run',\n",
       " 'run',\n",
       " 'run',\n",
       " 'run',\n",
       " 'run',\n",
       " 'run',\n",
       " 'run',\n",
       " 'run',\n",
       " 'run',\n",
       " 'run',\n",
       " 'run',\n",
       " 'run',\n",
       " 'run',\n",
       " 'run',\n",
       " 'run',\n",
       " 'run',\n",
       " 'run',\n",
       " 'run',\n",
       " 'run',\n",
       " 'run',\n",
       " 'run',\n",
       " 'run',\n",
       " 'pickup',\n",
       " 'pickup',\n",
       " 'pickup',\n",
       " 'pickup',\n",
       " 'pickup',\n",
       " 'pickup',\n",
       " 'pickup',\n",
       " 'pickup',\n",
       " 'pickup',\n",
       " 'pickup',\n",
       " 'pickup',\n",
       " 'pickup',\n",
       " 'pickup',\n",
       " 'pickup',\n",
       " 'pickup',\n",
       " 'pickup',\n",
       " 'pickup',\n",
       " 'pickup',\n",
       " 'pickup',\n",
       " 'pickup',\n",
       " 'pickup',\n",
       " 'pickup',\n",
       " 'pickup',\n",
       " 'pickup',\n",
       " 'pickup',\n",
       " 'pickup',\n",
       " 'pickup',\n",
       " 'bend',\n",
       " 'bend',\n",
       " 'bend',\n",
       " 'bend',\n",
       " 'bend',\n",
       " 'bend',\n",
       " 'bend',\n",
       " 'bend',\n",
       " 'bend',\n",
       " 'bend',\n",
       " 'bend',\n",
       " 'bend',\n",
       " 'bend',\n",
       " 'bend',\n",
       " 'bend',\n",
       " 'bend',\n",
       " 'bend',\n",
       " 'bend',\n",
       " 'bend',\n",
       " 'bend',\n",
       " 'bend',\n",
       " 'bend',\n",
       " 'bend',\n",
       " 'bend',\n",
       " 'bend',\n",
       " 'bend',\n",
       " 'bend',\n",
       " 'follow',\n",
       " 'follow',\n",
       " 'follow',\n",
       " 'follow',\n",
       " 'follow',\n",
       " 'follow',\n",
       " 'follow',\n",
       " 'follow',\n",
       " 'follow',\n",
       " 'follow',\n",
       " 'follow',\n",
       " 'follow',\n",
       " 'follow',\n",
       " 'follow',\n",
       " 'follow',\n",
       " 'follow',\n",
       " 'follow',\n",
       " 'follow',\n",
       " 'follow',\n",
       " 'follow',\n",
       " 'follow',\n",
       " 'follow',\n",
       " 'follow',\n",
       " 'follow',\n",
       " 'follow',\n",
       " 'follow',\n",
       " 'follow',\n",
       " 'follow',\n",
       " 'follow',\n",
       " 'follow',\n",
       " 'follow',\n",
       " 'follow',\n",
       " 'ride-bike',\n",
       " 'ride-bike',\n",
       " 'ride-bike',\n",
       " 'ride-bike',\n",
       " 'ride-bike',\n",
       " 'ride-bike',\n",
       " 'ride-bike',\n",
       " 'ride-bike',\n",
       " 'ride-bike',\n",
       " 'ride-bike',\n",
       " 'ride-bike',\n",
       " 'ride-bike',\n",
       " 'ride-bike',\n",
       " 'ride-bike',\n",
       " 'ride-bike',\n",
       " 'ride-bike',\n",
       " 'ride-bike']"
      ]
     },
     "execution_count": 5,
     "metadata": {},
     "output_type": "execute_result"
    }
   ],
   "source": [
    "labels_true = [labels_true[i] for i in idx]\n",
    "X = [X[i] for i in idx]\n",
    "labels_true"
   ]
  },
  {
   "cell_type": "code",
   "execution_count": 6,
   "metadata": {},
   "outputs": [],
   "source": [
    "\n",
    "'''\n",
    "datapoints rows and centers columns\n",
    "\n",
    "sine\n",
    "cosine\n",
    "sine_sq\n",
    "'''\n",
    "def distance_matrix(X, C, opt_type = 'sine'):\n",
    "    n = len(X)\n",
    "    m = len(C)\n",
    "    Distances = np.zeros((m,n))\n",
    "\n",
    "    # if opt_type == 'cosine':\n",
    "    #     opt_type = 'sinesq'\n",
    "    opt_type = 'sine'\n",
    "\n",
    "    for i in range(m):\n",
    "        for j in range(n):\n",
    "            Distances[i,j] = ca.calc_error_1_2([C[i]], X[j], opt_type)\n",
    "            \n",
    "    return Distances\n",
    "\n",
    "def cluster_purity(X, centers, opt_type, labels_true):\n",
    "    #calculate distance matrix\n",
    "    d_mat = distance_matrix(X, centers, opt_type)\n",
    "\n",
    "    #find the closest center for each point\n",
    "    index = np.argmin(d_mat, axis = 0)\n",
    "    \n",
    "    count = 0\n",
    "    for i in range(len(centers)):\n",
    "        idx = np.where(index == i)[0]\n",
    "        cluster_labels = [labels_true[i] for i in idx]\n",
    "        most_common_label = max(set(cluster_labels), key = cluster_labels.count)\n",
    "        # count += cluster_labels.count(most_common_label)\n",
    "        count += cluster_labels.count(most_common_label)/len(idx)\n",
    "\n",
    "    # return count/len(X)\n",
    "    return count/len(centers)"
   ]
  },
  {
   "cell_type": "code",
   "execution_count": 7,
   "metadata": {},
   "outputs": [],
   "source": [
    "\n",
    "def lbg_subspace(X, epsilon, n_centers = 17, opt_type = 'sine', n_its = 10, seed = 1):\n",
    "    n_pts = len(X)\n",
    "    error = 1\n",
    "    r = 48\n",
    "    distortions = []\n",
    "\n",
    "    #init centers\n",
    "    np.random.seed(seed)\n",
    "    centers = []\n",
    "    for i in range(n_centers):\n",
    "        centers.append(X[np.random.randint(n_pts)])\n",
    "\n",
    "    #calculate distance matrix\n",
    "    d_mat = distance_matrix(X, centers, opt_type)\n",
    "\n",
    "    #find the closest center for each point\n",
    "    index = np.argmin(d_mat, axis = 0)\n",
    "\n",
    "    #calculate first distortion\n",
    "    new_distortion = np.sum(d_mat[index])\n",
    "\n",
    "    distortions.append(new_distortion)\n",
    "\n",
    "\n",
    "    errors = []\n",
    "    while error > epsilon:\n",
    "\n",
    "        #set new distortion as old one\n",
    "        old_distortion = new_distortion\n",
    "\n",
    "        m = len(centers)\n",
    "\n",
    "        #calculate new centers\n",
    "        centers = []\n",
    "        for c in range(m):\n",
    "            idx = np.where(index == c)[0]\n",
    "            if len(idx) > 0:\n",
    "                if opt_type == 'sinesq':\n",
    "                    centers.append(ca.flag_mean([X[i] for i in idx], r, fast = False))\n",
    "                else:\n",
    "                    centers.append(ca.irls_flag([X[i] for i in idx], r, n_its, opt_type, opt_type)[0])\n",
    "        #         centers.append(np.mean([X[i] for i in idx], axis = 0))\n",
    "\n",
    "        #calculate distance matrix\n",
    "        d_mat = distance_matrix(X, centers, opt_type)\n",
    "\n",
    "        #find the closest center for each point\n",
    "        index = np.argmin(d_mat, axis = 0)\n",
    "\n",
    "        #new distortion\n",
    "        new_distortion = np.sum(d_mat[index])\n",
    "\n",
    "        distortions.append(new_distortion)\n",
    "\n",
    "        if new_distortion <0.00000000001:\n",
    "            error = 0\n",
    "        else:\n",
    "            error = np.abs(new_distortion - old_distortion)/old_distortion\n",
    "        errors.append(error)\n",
    "        print(error)\n",
    "\n",
    "    return centers, errors, distortions\n",
    "\n",
    "\n",
    "\n"
   ]
  },
  {
   "cell_type": "code",
   "execution_count": 8,
   "metadata": {},
   "outputs": [
    {
     "name": "stdout",
     "output_type": "stream",
     "text": [
      ".\n",
      ".\n",
      ".\n",
      "sin start\n",
      "11\n",
      "8\n",
      "8\n",
      "11\n",
      "11\n",
      "9\n",
      "11\n",
      "7\n",
      "8\n",
      "0.022944636244148775\n",
      "11\n",
      "8\n",
      "8\n",
      "3\n",
      "11\n",
      "9\n",
      "11\n",
      "7\n",
      "8\n",
      "4.933284405646243e-05\n",
      "11\n",
      "8\n",
      "8\n",
      "3\n",
      "11\n",
      "9\n",
      "11\n",
      "7\n",
      "8\n",
      "0.0\n",
      "cos start\n",
      "11\n",
      "11\n",
      "11\n",
      "3\n",
      "3\n",
      "11\n",
      "11\n",
      "11\n",
      "11\n",
      "0.022507957928729033\n",
      "11\n",
      "11\n",
      "11\n",
      "3\n",
      "3\n",
      "11\n",
      "11\n",
      "11\n",
      "11\n",
      "0.0\n",
      "flg start\n",
      "0.022512671925215635\n",
      "0.00012752398836358153\n",
      "0.0\n"
     ]
    }
   ],
   "source": [
    "Purities = pandas.DataFrame(columns = ['Algorithm','Number of Clusters','Cluster Purity'])\n",
    "\n",
    "n=10\n",
    "\n",
    "sin_purities = []\n",
    "cos_purities = []\n",
    "flg_purities = []\n",
    "for trial in range(1):\n",
    "    print('.')\n",
    "    print('.')\n",
    "    print('.')\n",
    "    print('sin start')\n",
    "    centers_sin, error_sin, dist_sin = lbg_subspace(X, .00001, n_centers = n, opt_type = 'sine', n_its = 10, seed = trial)\n",
    "    sin_purity = cluster_purity(X, centers_sin, 'sine', labels_true)\n",
    "    print('cos start')\n",
    "    centers_cos, error_cos, dist_cos = lbg_subspace(X, .00001, n_centers = n, opt_type = 'cosine', n_its = 10, seed = trial)\n",
    "    cos_purity = cluster_purity(X, centers_cos, 'cosine', labels_true)\n",
    "    print('flg start')\n",
    "    centers_flg, error_flg, dist_flg = lbg_subspace(X, .00001, n_centers = n, opt_type = 'sinesq', seed = trial)\n",
    "    flg_purity = cluster_purity(X, centers_flg, 'sinesq', labels_true)\n",
    "\n",
    "\n",
    "    Purities = Purities.append({'Algorithm': 'Sine Median', \n",
    "                            'Number of Clusters': n,\n",
    "                            'Cluster Purity': sin_purity},\n",
    "                            ignore_index = True)\n",
    "    Purities = Purities.append({'Algorithm': 'Maximum Cosine', \n",
    "                            'Number of Clusters': n,\n",
    "                            'Cluster Purity': cos_purity},\n",
    "                            ignore_index = True)\n",
    "    Purities = Purities.append({'Algorithm': 'Flag Mean', \n",
    "                            'Number of Clusters': n,\n",
    "                            'Cluster Purity': flg_purity},\n",
    "                            ignore_index = True)\n"
   ]
  },
  {
   "cell_type": "code",
   "execution_count": 9,
   "metadata": {},
   "outputs": [
    {
     "data": {
      "text/html": [
       "<div>\n",
       "<style scoped>\n",
       "    .dataframe tbody tr th:only-of-type {\n",
       "        vertical-align: middle;\n",
       "    }\n",
       "\n",
       "    .dataframe tbody tr th {\n",
       "        vertical-align: top;\n",
       "    }\n",
       "\n",
       "    .dataframe thead th {\n",
       "        text-align: right;\n",
       "    }\n",
       "</style>\n",
       "<table border=\"1\" class=\"dataframe\">\n",
       "  <thead>\n",
       "    <tr style=\"text-align: right;\">\n",
       "      <th></th>\n",
       "      <th>Algorithm</th>\n",
       "      <th>Number of Clusters</th>\n",
       "      <th>Cluster Purity</th>\n",
       "    </tr>\n",
       "  </thead>\n",
       "  <tbody>\n",
       "    <tr>\n",
       "      <th>0</th>\n",
       "      <td>Sine Median</td>\n",
       "      <td>10</td>\n",
       "      <td>0.494820</td>\n",
       "    </tr>\n",
       "    <tr>\n",
       "      <th>1</th>\n",
       "      <td>Maximum Cosine</td>\n",
       "      <td>10</td>\n",
       "      <td>0.512626</td>\n",
       "    </tr>\n",
       "    <tr>\n",
       "      <th>2</th>\n",
       "      <td>Flag Mean</td>\n",
       "      <td>10</td>\n",
       "      <td>0.518799</td>\n",
       "    </tr>\n",
       "  </tbody>\n",
       "</table>\n",
       "</div>"
      ],
      "text/plain": [
       "        Algorithm Number of Clusters  Cluster Purity\n",
       "0     Sine Median                 10        0.494820\n",
       "1  Maximum Cosine                 10        0.512626\n",
       "2       Flag Mean                 10        0.518799"
      ]
     },
     "execution_count": 9,
     "metadata": {},
     "output_type": "execute_result"
    }
   ],
   "source": [
    "Purities"
   ]
  },
  {
   "cell_type": "code",
   "execution_count": 10,
   "metadata": {},
   "outputs": [
    {
     "data": {
      "text/plain": [
       "'pickup'"
      ]
     },
     "execution_count": 10,
     "metadata": {},
     "output_type": "execute_result"
    },
    {
     "data": {
      "image/png": "[encoded data removed]",
      "text/plain": [
       "<Figure size 432x288 with 1 Axes>"
      ]
     },
     "metadata": {
      "needs_background": "light"
     },
     "output_type": "display_data"
    }
   ],
   "source": [
    "sample = 30\n",
    "plt.imshow(X[sample][:,24].reshape(32,32), cmap='gray')\n",
    "labels_true[sample]"
   ]
  },
  {
   "cell_type": "code",
   "execution_count": 11,
   "metadata": {},
   "outputs": [],
   "source": [
    "d_mat = distance_matrix(X, centers_sin, 'sine')\n",
    "#find the closest center for each point\n",
    "index = np.argmin(d_mat, axis = 0)\n",
    "s_idx = index[sample]\n",
    "\n",
    "d_mat = distance_matrix(X, centers_cos, 'sine')\n",
    "#find the closest center for each point\n",
    "index = np.argmin(d_mat, axis = 0)\n",
    "c_idx = index[sample]\n",
    "\n",
    "d_mat = distance_matrix(X, centers_flg, 'sine')\n",
    "#find the closest center for each point\n",
    "index = np.argmin(d_mat, axis = 0)\n",
    "f_idx = index[sample]"
   ]
  },
  {
   "cell_type": "code",
   "execution_count": 15,
   "metadata": {},
   "outputs": [
    {
     "data": {
      "text/plain": [
       "Text(0.5, 1.0, 'Flag Mean')"
      ]
     },
     "execution_count": 15,
     "metadata": {},
     "output_type": "execute_result"
    },
    {
     "data": {
      "image/png": "[encoded data removed]",
      "text/plain": [
       "<Figure size 432x288 with 1 Axes>"
      ]
     },
     "metadata": {
      "needs_background": "light"
     },
     "output_type": "display_data"
    },
    {
     "data": {
      "image/png": "[encoded data removed]",
      "text/plain": [
       "<Figure size 432x288 with 1 Axes>"
      ]
     },
     "metadata": {
      "needs_background": "light"
     },
     "output_type": "display_data"
    },
    {
     "data": {
      "image/png": "[encoded data removed]",
      "text/plain": [
       "<Figure size 432x288 with 1 Axes>"
      ]
     },
     "metadata": {
      "needs_background": "light"
     },
     "output_type": "display_data"
    }
   ],
   "source": [
    "plt.figure()\n",
    "plt.imshow(centers_sin[s_idx][:,15].reshape(32,32), cmap='gray')\n",
    "plt.title('Sine Median')\n",
    "plt.figure()\n",
    "plt.imshow(-centers_cos[c_idx][:,15].reshape(32,32), cmap='gray')\n",
    "plt.title('Maximum Cosine')\n",
    "plt.figure()\n",
    "plt.imshow(centers_flg[f_idx][:,15].reshape(32,32), cmap='gray')\n",
    "plt.title('Flag Mean')"
   ]
  },
  {
   "cell_type": "code",
   "execution_count": 74,
   "metadata": {},
   "outputs": [
    {
     "data": {
      "text/plain": [
       "'pickup'"
      ]
     },
     "execution_count": 74,
     "metadata": {},
     "output_type": "execute_result"
    },
    {
     "data": {
      "image/png": "[encoded data removed]",
      "text/plain": [
       "<Figure size 432x288 with 1 Axes>"
      ]
     },
     "metadata": {
      "needs_background": "light"
     },
     "output_type": "display_data"
    }
   ],
   "source": []
  },
  {
   "cell_type": "code",
   "execution_count": null,
   "metadata": {},
   "outputs": [],
   "source": []
  }
 ],
 "metadata": {
  "interpreter": {
   "hash": "9a16b7d45e15add018271b8879906ed388208b17729257166cad5f2212e101aa"
  },
  "kernelspec": {
   "display_name": "Python 3.8.8 64-bit ('base': conda)",
   "name": "python3"
  },
  "language_info": {
   "codemirror_mode": {
    "name": "ipython",
    "version": 3
   },
   "file_extension": ".py",
   "mimetype": "text/x-python",
   "name": "python",
   "nbconvert_exporter": "python",
   "pygments_lexer": "ipython3",
   "version": "3.8.8"
  },
  "orig_nbformat": 4
 },
 "nbformat": 4,
 "nbformat_minor": 2
}
